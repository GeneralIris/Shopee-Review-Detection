{
 "cells": [
  {
   "cell_type": "code",
   "execution_count": 1,
   "metadata": {
    "collapsed": true,
    "pycharm": {
     "name": "#%%\n"
    }
   },
   "outputs": [
    {
     "name": "stderr",
     "output_type": "stream",
     "text": [
      "C:\\Users\\General IRIS\\PycharmProjects\\FinalYearProject\\venv\\lib\\site-packages\\malaya_boilerplate\\frozen_graph.py:35: UserWarning: Cannot import beam_search_ops from Tensorflow Addons, ['malaya.jawi_rumi.deep_model', 'malaya.phoneme.deep_model', 'malaya.rumi_jawi.deep_model', 'malaya.stem.deep_model'] will not available to use, make sure Tensorflow Addons version >= 0.12.0\n",
      "  warnings.warn(\n",
      "C:\\Users\\General IRIS\\PycharmProjects\\FinalYearProject\\venv\\lib\\site-packages\\malaya_boilerplate\\frozen_graph.py:38: UserWarning: check compatible Tensorflow version with Tensorflow Addons at https://github.com/tensorflow/addons/releases\n",
      "  warnings.warn(\n",
      "C:\\Users\\General IRIS\\PycharmProjects\\FinalYearProject\\venv\\lib\\site-packages\\malaya\\tokenizer.py:208: FutureWarning: Possible nested set at position 3372\n",
      "  self.tok = re.compile(r'({})'.format('|'.join(pipeline)))\n",
      "C:\\Users\\General IRIS\\PycharmProjects\\FinalYearProject\\venv\\lib\\site-packages\\malaya\\tokenizer.py:208: FutureWarning: Possible nested set at position 3890\n",
      "  self.tok = re.compile(r'({})'.format('|'.join(pipeline)))\n"
     ]
    }
   ],
   "source": [
    "import pandas as pd\n",
    "import regex as re\n",
    "import emoji\n",
    "import string\n",
    "# Malay NLP #\n",
    "\n",
    "import malaya\n",
    "import logging\n",
    "\n",
    "#Spelling Correction\n",
    "import tensorflow as tf\n",
    "import symspellpy\n",
    "\n",
    "# Normalization #\n",
    "\n",
    "from pprint import pprint\n",
    "#translation\n",
    "from googletrans import Translator\n",
    "\n",
    "translator = Translator()\n",
    "\n",
    "#Custom Dictionary\n",
    "from python.customDict import getMyDict\n"
   ]
  },
  {
   "cell_type": "markdown",
   "source": [
    "# DATA CLEANING MALAY\n"
   ],
   "metadata": {
    "collapsed": false,
    "pycharm": {
     "name": "#%% md\n"
    }
   }
  },
  {
   "cell_type": "code",
   "execution_count": 2,
   "outputs": [],
   "source": [
    "df = pd.read_csv('CurrentData.csv', encoding='utf-8')"
   ],
   "metadata": {
    "collapsed": false,
    "pycharm": {
     "name": "#%%\n"
    }
   }
  },
  {
   "cell_type": "markdown",
   "source": [
    "### Functions Only"
   ],
   "metadata": {
    "collapsed": false,
    "pycharm": {
     "name": "#%% md\n"
    }
   }
  },
  {
   "cell_type": "code",
   "execution_count": 3,
   "outputs": [],
   "source": [
    "def dataChecking(df,num):\n",
    "\n",
    "    if num == 1:\n",
    "        print(df.shape[0])\n",
    "    elif num == 2:\n",
    "        print(df.isnull().sum())\n",
    "    print(\"\\n\")\n",
    "\n",
    "def convertToStr(somestring):\n",
    "\n",
    "    properString = ''\n",
    "\n",
    "    if type(somestring) != str:\n",
    "        properString = str(somestring)\n",
    "    else:\n",
    "        properString = somestring\n",
    "\n",
    "    return properString\n",
    "\n",
    "def countEmoji(aString):\n",
    "\n",
    "    #\\X to check individual emoji where family emoji is actually not 1 emoji but multiple ~5\n",
    "    # Hence calculate it as 1 not lets say 5\n",
    "    data = re.findall(r'\\X', aString.strip())\n",
    "\n",
    "    return sum(emoji.is_emoji(word) for word in data)\n",
    "\n",
    "\n",
    "def countPunct(aString):\n",
    "\n",
    "    data = re.findall(r'\\X', aString.strip())\n",
    "    return sum(word in string.punctuation for word in data)\n",
    "\n",
    "def countCaps(aString):\n",
    "    return len(re.findall(r'[A-Z]', aString.strip()))\n",
    "\n",
    "\n",
    "def removeTooLongAndSeparateNumAndWord(comment,tokenizer):\n",
    "    extraWords = getMyDict()\n",
    "\n",
    "    comment = comment.lower()\n",
    "\n",
    "    tokenized = tokenizer.tokenize(comment)\n",
    "    reducedWords = []\n",
    "    #Remove extra lengthy words + seperate numbers and letters\n",
    "    for i, val in enumerate(tokenized):\n",
    "        if len(val) < 20:\n",
    "            result = re.findall('\\d+|\\D+', val)\n",
    "            reducedWords = reducedWords + result\n",
    "\n",
    "    #Replace and fix words (Manually)\n",
    "    for i in range( len(reducedWords) ):\n",
    "\n",
    "        text = reducedWords[i]\n",
    "        if text.isnumeric():\n",
    "            continue\n",
    "        try:\n",
    "            if (reducedWords[i] == 't'):\n",
    "                reducedWords[i] = \"\"\n",
    "\n",
    "            else:\n",
    "                reducedWords[i] = extraWords[text]\n",
    "        except Exception:\n",
    "            pass\n",
    "\n",
    "    reducedSentences = ' '.join(reducedWords).strip()\n",
    "\n",
    "    SimpleCommentManglish = re.sub( r'[^A-Za-z0-9]+',' ', reducedSentences)\n",
    "    return SimpleCommentManglish\n",
    "\n",
    "\n",
    "#Preprocessing + Normalization\n",
    "def spellerCorrector(comment,model):\n",
    "    #Tries fix simple words\n",
    "\n",
    "    if comment:\n",
    "        commentCorrected =  ' '.join(list(map(lambda each:each.replace('<repeated>','').replace('</repeated>','').replace('<elongated>','').replace('</elongated>','').replace('<number>','').replace('</number>',''), model.process(comment))))\n",
    "        return ' '.join( commentCorrected.split() )\n",
    "    return ''\n",
    "\n",
    "\n",
    "# Remove elongated words\n",
    "def malayNormalizer(comment,normalizer):\n",
    "    try:\n",
    "\n",
    "        if comment or comment != 'None' or comment != \"\":\n",
    "\n",
    "            newComment = normalizer.normalize(comment,normalize_entity = False)\n",
    "            return newComment['normalize']\n",
    "\n",
    "        return ''\n",
    "    except Exception:\n",
    "        #Debug\n",
    "        print(\"Exception Here\\n\\n\" + comment)\n",
    "        return comment\n",
    "\n",
    "\n",
    "\n",
    "def deepSpellerCorrector(comment,model):\n",
    "\n",
    "    #Tries to correct short forms and slangs words\n",
    "    try:\n",
    "        if comment or comment != 'None' or comment != \"\":\n",
    "\n",
    "            return model.correct_text(comment)\n",
    "\n",
    "        return ''\n",
    "    except Exception:\n",
    "        print(\"Exception Here\\n\\n\" + comment)\n",
    "        return comment\n",
    "\n",
    "\n",
    "\n",
    "def malayToEnglishTranslator(comment, model):\n",
    "    #Finally change BM -> ENG\n",
    "    if comment:\n",
    "        return ' '.join(model.greedy_decoder([comment]))\n",
    "\n",
    "    return ''\n",
    "\n",
    "\n",
    "\n",
    "def usingGoogleTranslate(comment):\n",
    "    if comment:\n",
    "        r = translator.translate(comment, src='ms', dest = 'en')\n",
    "        return r.text\n",
    "\n",
    "    return ''\n",
    "\n"
   ],
   "metadata": {
    "collapsed": false,
    "pycharm": {
     "name": "#%%\n"
    }
   }
  },
  {
   "cell_type": "code",
   "execution_count": 4,
   "outputs": [
    {
     "data": {
      "text/plain": "             Username     Userid  Rating  Helpfulness  \\\n0             i*****_  218195265       3          NaN   \n1       simonchan1905  705330191       1          1.0   \n2         ladydelilah   90528909       5          NaN   \n3          anna_aizad   34734312       1          7.0   \n4             b*****d  758613696       5          2.0   \n5        beskotkebeng  184848780       5          2.0   \n6         mikrobistro  554068149       2          3.0   \n7          suraya0806   30636902       5          NaN   \n8          aimestudio   39266309       5          NaN   \n9             j*****n  219751578       5          NaN   \n10        saifuda1660   12441141       4          4.0   \n11       isabellejy94  130688367       5          NaN   \n12            saytean   39400476       5          NaN   \n13         chiknazrin    2917734       5          NaN   \n14      aidilmohdsani  129907368       5          NaN   \n15      thevaluestore  240113243       5          NaN   \n16           onyxmist   61416778       5          NaN   \n17     kingsleyahtiam  165349292       1          1.0   \n18       vincechin103  133434338       5          NaN   \n19        jocelyn_loh   37100712       4          1.0   \n20            j*****l    9753276       5          2.0   \n21            wjy5488   77552052       5          NaN   \n22            a*****2   71470857       5          NaN   \n23          syahmiray   10029120       5          NaN   \n24           hazriff3   81720307       5          NaN   \n25            p*****n   85960991       5          NaN   \n26           limyuuuu   58557846       5          NaN   \n27            p*****e   45466717       1          1.0   \n28            s*****r  179957004       5          NaN   \n29          behhan123   46464563       4          NaN   \n30       nurhusnadria   63781975       5          2.0   \n31     acad_supernova   38694556       5          NaN   \n32      shahmiharun93   41346936       5          NaN   \n33           cassie92   20317077       5          NaN   \n34            e*****y   45143196       5          NaN   \n35         sx.firdaus  198333054       5          NaN   \n36  premiere_premiere  261977742       5          NaN   \n37     mohamadsyarhan   48680641       4          NaN   \n38           atiekaa_    5876957       5          NaN   \n39            a*****a   27098462       5          NaN   \n40         hardantako  209165503       1          4.0   \n41            p*****w   37188405       5          1.0   \n42       hadimohtar89   69210161       5          NaN   \n43       nora_azlin82   49281376       1          5.0   \n44            z*****i   45866940       5          NaN   \n45            d*****g  373206536       2          NaN   \n46           qila1212   52979980       3          NaN   \n47            m*****o   68083399       1          NaN   \n48             pxture   18091935       3          NaN   \n49            p*****2  252946205       5          NaN   \n\n                                              Comment          TimeCreated  \\\n0   SSD boleh pakai cuma...bila dah transfer tetib...      2/25/2022 22:20   \n1   Never trust or purchase usb or sd card if the ...  2022-07-29 08:29:09   \n2   Alhamdulillah dh smpi, terus guna.. saje amek ...  2022-01-07 11:28:36   \n3   All my file corrupted after saving a few file ...  2022-07-13 14:28:30   \n4   Box came bubble-wrapped, so everything is in g...  2022-07-12 13:33:12   \n5   Copy speed based on your internal storage. Man...  2020-10-04 09:57:55   \n6   Barang sampai dlm keadaan baik tp kenapa hard ...      5/19/2022 12:27   \n7   Received item in good condition. Secure packag...  2021-08-18 19:00:41   \n8   Good Product Quality Seagate ✅\\nLaju. if nak s...  2021-06-28 03:17:32   \n9   Item received in good condition but yet to be ...  2021-06-22 20:41:30   \n10  Very nice & secured packaging. Externally no d...  2022-01-24 00:16:26   \n11  Speedy delivery + Product received in good con...  2022-03-17 17:33:36   \n12  Already lost count how many time i purchased f...  2022-06-09 16:19:24   \n13  Very quick delivery. Product is working as per...  2021-02-13 15:34:10   \n14                                            Nice tq  2021-06-22 10:42:33   \n15  Great product, does its job. Loving the casing...  2021-07-21 00:21:28   \n16  Good product. \\nGood value.\\nGood seller.\\nGoo...  2020-02-21 20:38:34   \n17  Don't buy! \\n1. Seller said this ssd can not b...       6/13/2022 2:21   \n18  Speedy dispatch and delivery! Excellent packag...  2020-09-29 13:57:34   \n19  Deeply disappointed seller only wrapped it by ...  2021-09-30 18:46:15   \n20  Tested the speed for 250GB, around 388 Mbps. W...  2021-03-09 09:20:03   \n21                        Received ìn good condition.  2020-11-23 11:57:25   \n22  Good product quality, Value for money, Fast de...  2022-08-23 07:37:16   \n23  Brg seller pos laju... sampai dalam keadaan ba...  2021-08-20 08:54:51   \n24  Good product, fast process, fast delivery. Ver...  2022-04-22 17:35:21   \n25  Fast delivery. Bought during sales, good value...  2021-05-08 15:04:41   \n26  very good. The hard disk is tiny and light, ea...  2020-12-27 09:05:56   \n27  Performance:FAKE PRODUCT + NOT SEAGATE\\n\\n0 st...  2022-09-11 16:21:03   \n28                                         👍👍👍👍👍👍👍👍👍👍  2021-10-14 21:42:51   \n29  Delivery is a bit slow. But product is as desc...  2020-06-11 17:39:04   \n30  Terima kasih seller \\nPenghantaran pon awal\\nC...  2020-09-21 18:51:04   \n31  Barang berfungsi degan baik.. speed bergantung...      11/3/2021 13:22   \n32  barang berkualiti tp tak puas hati dkt shopee ...  2020-08-03 20:19:39   \n33      Well received with thanks!! Fast delivery!!\\n  2021-04-06 15:36:57   \n34  It works and that's all I care about. No damag...  2021-04-26 14:13:43   \n35   Work fine and its already allocate. Plug and use  2022-07-05 09:54:53   \n36  The product itself is good in terms of quality...  2020-11-25 23:57:17   \n37  Only 4 star. Because i order the blue colour. ...  2020-04-24 16:21:29   \n38  RM0 1.3 juta lagi janji temu vaksinasi sedang ...  2021-07-27 22:47:22   \n39           Received in good condition, complete all  2021-08-13 17:43:19   \n40  Fake product! Don't get deceived or scammed! N...      4/19/2022 18:23   \n41  Performance:Great value, good packaging, deliv...  2022-09-24 14:56:15   \n42                 good item, with affordable price..  2021-07-11 12:05:15   \n43  beli bru bpe mingu..bru bukak dan try da x ok....      3/21/2022 13:42   \n44  Order dah sampai.. pantas..packaging mantap.. ...  2022-05-03 18:27:38   \n45  Performance:The drive working well after two d...        9/5/2022 1:16   \n46  There's no hard case free gift. Only the pouch...  2019-07-11 08:46:54   \n47  Buying 2. Already told in chat that i buy 2. R...      12/2/2021 21:02   \n48  OK la for the price, this is not an authentic ...  2021-08-16 19:58:50   \n49  Small and fits into palm. The colour is only o...  2021-07-14 02:13:51   \n\n    Target  \n0        1  \n1        1  \n2        0  \n3        1  \n4        0  \n5        1  \n6        1  \n7        0  \n8        1  \n9        0  \n10       1  \n11       0  \n12       0  \n13       0  \n14       0  \n15       0  \n16       0  \n17       1  \n18       0  \n19       0  \n20       1  \n21       0  \n22       0  \n23       1  \n24       0  \n25       0  \n26       0  \n27       1  \n28       0  \n29       0  \n30       1  \n31       1  \n32       0  \n33       0  \n34       0  \n35       0  \n36       0  \n37       0  \n38       0  \n39       0  \n40       1  \n41       1  \n42       0  \n43       1  \n44       0  \n45       1  \n46       1  \n47       1  \n48       1  \n49       1  ",
      "text/html": "<div>\n<style scoped>\n    .dataframe tbody tr th:only-of-type {\n        vertical-align: middle;\n    }\n\n    .dataframe tbody tr th {\n        vertical-align: top;\n    }\n\n    .dataframe thead th {\n        text-align: right;\n    }\n</style>\n<table border=\"1\" class=\"dataframe\">\n  <thead>\n    <tr style=\"text-align: right;\">\n      <th></th>\n      <th>Username</th>\n      <th>Userid</th>\n      <th>Rating</th>\n      <th>Helpfulness</th>\n      <th>Comment</th>\n      <th>TimeCreated</th>\n      <th>Target</th>\n    </tr>\n  </thead>\n  <tbody>\n    <tr>\n      <th>0</th>\n      <td>i*****_</td>\n      <td>218195265</td>\n      <td>3</td>\n      <td>NaN</td>\n      <td>SSD boleh pakai cuma...bila dah transfer tetib...</td>\n      <td>2/25/2022 22:20</td>\n      <td>1</td>\n    </tr>\n    <tr>\n      <th>1</th>\n      <td>simonchan1905</td>\n      <td>705330191</td>\n      <td>1</td>\n      <td>1.0</td>\n      <td>Never trust or purchase usb or sd card if the ...</td>\n      <td>2022-07-29 08:29:09</td>\n      <td>1</td>\n    </tr>\n    <tr>\n      <th>2</th>\n      <td>ladydelilah</td>\n      <td>90528909</td>\n      <td>5</td>\n      <td>NaN</td>\n      <td>Alhamdulillah dh smpi, terus guna.. saje amek ...</td>\n      <td>2022-01-07 11:28:36</td>\n      <td>0</td>\n    </tr>\n    <tr>\n      <th>3</th>\n      <td>anna_aizad</td>\n      <td>34734312</td>\n      <td>1</td>\n      <td>7.0</td>\n      <td>All my file corrupted after saving a few file ...</td>\n      <td>2022-07-13 14:28:30</td>\n      <td>1</td>\n    </tr>\n    <tr>\n      <th>4</th>\n      <td>b*****d</td>\n      <td>758613696</td>\n      <td>5</td>\n      <td>2.0</td>\n      <td>Box came bubble-wrapped, so everything is in g...</td>\n      <td>2022-07-12 13:33:12</td>\n      <td>0</td>\n    </tr>\n    <tr>\n      <th>5</th>\n      <td>beskotkebeng</td>\n      <td>184848780</td>\n      <td>5</td>\n      <td>2.0</td>\n      <td>Copy speed based on your internal storage. Man...</td>\n      <td>2020-10-04 09:57:55</td>\n      <td>1</td>\n    </tr>\n    <tr>\n      <th>6</th>\n      <td>mikrobistro</td>\n      <td>554068149</td>\n      <td>2</td>\n      <td>3.0</td>\n      <td>Barang sampai dlm keadaan baik tp kenapa hard ...</td>\n      <td>5/19/2022 12:27</td>\n      <td>1</td>\n    </tr>\n    <tr>\n      <th>7</th>\n      <td>suraya0806</td>\n      <td>30636902</td>\n      <td>5</td>\n      <td>NaN</td>\n      <td>Received item in good condition. Secure packag...</td>\n      <td>2021-08-18 19:00:41</td>\n      <td>0</td>\n    </tr>\n    <tr>\n      <th>8</th>\n      <td>aimestudio</td>\n      <td>39266309</td>\n      <td>5</td>\n      <td>NaN</td>\n      <td>Good Product Quality Seagate ✅\\nLaju. if nak s...</td>\n      <td>2021-06-28 03:17:32</td>\n      <td>1</td>\n    </tr>\n    <tr>\n      <th>9</th>\n      <td>j*****n</td>\n      <td>219751578</td>\n      <td>5</td>\n      <td>NaN</td>\n      <td>Item received in good condition but yet to be ...</td>\n      <td>2021-06-22 20:41:30</td>\n      <td>0</td>\n    </tr>\n    <tr>\n      <th>10</th>\n      <td>saifuda1660</td>\n      <td>12441141</td>\n      <td>4</td>\n      <td>4.0</td>\n      <td>Very nice &amp; secured packaging. Externally no d...</td>\n      <td>2022-01-24 00:16:26</td>\n      <td>1</td>\n    </tr>\n    <tr>\n      <th>11</th>\n      <td>isabellejy94</td>\n      <td>130688367</td>\n      <td>5</td>\n      <td>NaN</td>\n      <td>Speedy delivery + Product received in good con...</td>\n      <td>2022-03-17 17:33:36</td>\n      <td>0</td>\n    </tr>\n    <tr>\n      <th>12</th>\n      <td>saytean</td>\n      <td>39400476</td>\n      <td>5</td>\n      <td>NaN</td>\n      <td>Already lost count how many time i purchased f...</td>\n      <td>2022-06-09 16:19:24</td>\n      <td>0</td>\n    </tr>\n    <tr>\n      <th>13</th>\n      <td>chiknazrin</td>\n      <td>2917734</td>\n      <td>5</td>\n      <td>NaN</td>\n      <td>Very quick delivery. Product is working as per...</td>\n      <td>2021-02-13 15:34:10</td>\n      <td>0</td>\n    </tr>\n    <tr>\n      <th>14</th>\n      <td>aidilmohdsani</td>\n      <td>129907368</td>\n      <td>5</td>\n      <td>NaN</td>\n      <td>Nice tq</td>\n      <td>2021-06-22 10:42:33</td>\n      <td>0</td>\n    </tr>\n    <tr>\n      <th>15</th>\n      <td>thevaluestore</td>\n      <td>240113243</td>\n      <td>5</td>\n      <td>NaN</td>\n      <td>Great product, does its job. Loving the casing...</td>\n      <td>2021-07-21 00:21:28</td>\n      <td>0</td>\n    </tr>\n    <tr>\n      <th>16</th>\n      <td>onyxmist</td>\n      <td>61416778</td>\n      <td>5</td>\n      <td>NaN</td>\n      <td>Good product. \\nGood value.\\nGood seller.\\nGoo...</td>\n      <td>2020-02-21 20:38:34</td>\n      <td>0</td>\n    </tr>\n    <tr>\n      <th>17</th>\n      <td>kingsleyahtiam</td>\n      <td>165349292</td>\n      <td>1</td>\n      <td>1.0</td>\n      <td>Don't buy! \\n1. Seller said this ssd can not b...</td>\n      <td>6/13/2022 2:21</td>\n      <td>1</td>\n    </tr>\n    <tr>\n      <th>18</th>\n      <td>vincechin103</td>\n      <td>133434338</td>\n      <td>5</td>\n      <td>NaN</td>\n      <td>Speedy dispatch and delivery! Excellent packag...</td>\n      <td>2020-09-29 13:57:34</td>\n      <td>0</td>\n    </tr>\n    <tr>\n      <th>19</th>\n      <td>jocelyn_loh</td>\n      <td>37100712</td>\n      <td>4</td>\n      <td>1.0</td>\n      <td>Deeply disappointed seller only wrapped it by ...</td>\n      <td>2021-09-30 18:46:15</td>\n      <td>0</td>\n    </tr>\n    <tr>\n      <th>20</th>\n      <td>j*****l</td>\n      <td>9753276</td>\n      <td>5</td>\n      <td>2.0</td>\n      <td>Tested the speed for 250GB, around 388 Mbps. W...</td>\n      <td>2021-03-09 09:20:03</td>\n      <td>1</td>\n    </tr>\n    <tr>\n      <th>21</th>\n      <td>wjy5488</td>\n      <td>77552052</td>\n      <td>5</td>\n      <td>NaN</td>\n      <td>Received ìn good condition.</td>\n      <td>2020-11-23 11:57:25</td>\n      <td>0</td>\n    </tr>\n    <tr>\n      <th>22</th>\n      <td>a*****2</td>\n      <td>71470857</td>\n      <td>5</td>\n      <td>NaN</td>\n      <td>Good product quality, Value for money, Fast de...</td>\n      <td>2022-08-23 07:37:16</td>\n      <td>0</td>\n    </tr>\n    <tr>\n      <th>23</th>\n      <td>syahmiray</td>\n      <td>10029120</td>\n      <td>5</td>\n      <td>NaN</td>\n      <td>Brg seller pos laju... sampai dalam keadaan ba...</td>\n      <td>2021-08-20 08:54:51</td>\n      <td>1</td>\n    </tr>\n    <tr>\n      <th>24</th>\n      <td>hazriff3</td>\n      <td>81720307</td>\n      <td>5</td>\n      <td>NaN</td>\n      <td>Good product, fast process, fast delivery. Ver...</td>\n      <td>2022-04-22 17:35:21</td>\n      <td>0</td>\n    </tr>\n    <tr>\n      <th>25</th>\n      <td>p*****n</td>\n      <td>85960991</td>\n      <td>5</td>\n      <td>NaN</td>\n      <td>Fast delivery. Bought during sales, good value...</td>\n      <td>2021-05-08 15:04:41</td>\n      <td>0</td>\n    </tr>\n    <tr>\n      <th>26</th>\n      <td>limyuuuu</td>\n      <td>58557846</td>\n      <td>5</td>\n      <td>NaN</td>\n      <td>very good. The hard disk is tiny and light, ea...</td>\n      <td>2020-12-27 09:05:56</td>\n      <td>0</td>\n    </tr>\n    <tr>\n      <th>27</th>\n      <td>p*****e</td>\n      <td>45466717</td>\n      <td>1</td>\n      <td>1.0</td>\n      <td>Performance:FAKE PRODUCT + NOT SEAGATE\\n\\n0 st...</td>\n      <td>2022-09-11 16:21:03</td>\n      <td>1</td>\n    </tr>\n    <tr>\n      <th>28</th>\n      <td>s*****r</td>\n      <td>179957004</td>\n      <td>5</td>\n      <td>NaN</td>\n      <td>👍👍👍👍👍👍👍👍👍👍</td>\n      <td>2021-10-14 21:42:51</td>\n      <td>0</td>\n    </tr>\n    <tr>\n      <th>29</th>\n      <td>behhan123</td>\n      <td>46464563</td>\n      <td>4</td>\n      <td>NaN</td>\n      <td>Delivery is a bit slow. But product is as desc...</td>\n      <td>2020-06-11 17:39:04</td>\n      <td>0</td>\n    </tr>\n    <tr>\n      <th>30</th>\n      <td>nurhusnadria</td>\n      <td>63781975</td>\n      <td>5</td>\n      <td>2.0</td>\n      <td>Terima kasih seller \\nPenghantaran pon awal\\nC...</td>\n      <td>2020-09-21 18:51:04</td>\n      <td>1</td>\n    </tr>\n    <tr>\n      <th>31</th>\n      <td>acad_supernova</td>\n      <td>38694556</td>\n      <td>5</td>\n      <td>NaN</td>\n      <td>Barang berfungsi degan baik.. speed bergantung...</td>\n      <td>11/3/2021 13:22</td>\n      <td>1</td>\n    </tr>\n    <tr>\n      <th>32</th>\n      <td>shahmiharun93</td>\n      <td>41346936</td>\n      <td>5</td>\n      <td>NaN</td>\n      <td>barang berkualiti tp tak puas hati dkt shopee ...</td>\n      <td>2020-08-03 20:19:39</td>\n      <td>0</td>\n    </tr>\n    <tr>\n      <th>33</th>\n      <td>cassie92</td>\n      <td>20317077</td>\n      <td>5</td>\n      <td>NaN</td>\n      <td>Well received with thanks!! Fast delivery!!\\n</td>\n      <td>2021-04-06 15:36:57</td>\n      <td>0</td>\n    </tr>\n    <tr>\n      <th>34</th>\n      <td>e*****y</td>\n      <td>45143196</td>\n      <td>5</td>\n      <td>NaN</td>\n      <td>It works and that's all I care about. No damag...</td>\n      <td>2021-04-26 14:13:43</td>\n      <td>0</td>\n    </tr>\n    <tr>\n      <th>35</th>\n      <td>sx.firdaus</td>\n      <td>198333054</td>\n      <td>5</td>\n      <td>NaN</td>\n      <td>Work fine and its already allocate. Plug and use</td>\n      <td>2022-07-05 09:54:53</td>\n      <td>0</td>\n    </tr>\n    <tr>\n      <th>36</th>\n      <td>premiere_premiere</td>\n      <td>261977742</td>\n      <td>5</td>\n      <td>NaN</td>\n      <td>The product itself is good in terms of quality...</td>\n      <td>2020-11-25 23:57:17</td>\n      <td>0</td>\n    </tr>\n    <tr>\n      <th>37</th>\n      <td>mohamadsyarhan</td>\n      <td>48680641</td>\n      <td>4</td>\n      <td>NaN</td>\n      <td>Only 4 star. Because i order the blue colour. ...</td>\n      <td>2020-04-24 16:21:29</td>\n      <td>0</td>\n    </tr>\n    <tr>\n      <th>38</th>\n      <td>atiekaa_</td>\n      <td>5876957</td>\n      <td>5</td>\n      <td>NaN</td>\n      <td>RM0 1.3 juta lagi janji temu vaksinasi sedang ...</td>\n      <td>2021-07-27 22:47:22</td>\n      <td>0</td>\n    </tr>\n    <tr>\n      <th>39</th>\n      <td>a*****a</td>\n      <td>27098462</td>\n      <td>5</td>\n      <td>NaN</td>\n      <td>Received in good condition, complete all</td>\n      <td>2021-08-13 17:43:19</td>\n      <td>0</td>\n    </tr>\n    <tr>\n      <th>40</th>\n      <td>hardantako</td>\n      <td>209165503</td>\n      <td>1</td>\n      <td>4.0</td>\n      <td>Fake product! Don't get deceived or scammed! N...</td>\n      <td>4/19/2022 18:23</td>\n      <td>1</td>\n    </tr>\n    <tr>\n      <th>41</th>\n      <td>p*****w</td>\n      <td>37188405</td>\n      <td>5</td>\n      <td>1.0</td>\n      <td>Performance:Great value, good packaging, deliv...</td>\n      <td>2022-09-24 14:56:15</td>\n      <td>1</td>\n    </tr>\n    <tr>\n      <th>42</th>\n      <td>hadimohtar89</td>\n      <td>69210161</td>\n      <td>5</td>\n      <td>NaN</td>\n      <td>good item, with affordable price..</td>\n      <td>2021-07-11 12:05:15</td>\n      <td>0</td>\n    </tr>\n    <tr>\n      <th>43</th>\n      <td>nora_azlin82</td>\n      <td>49281376</td>\n      <td>1</td>\n      <td>5.0</td>\n      <td>beli bru bpe mingu..bru bukak dan try da x ok....</td>\n      <td>3/21/2022 13:42</td>\n      <td>1</td>\n    </tr>\n    <tr>\n      <th>44</th>\n      <td>z*****i</td>\n      <td>45866940</td>\n      <td>5</td>\n      <td>NaN</td>\n      <td>Order dah sampai.. pantas..packaging mantap.. ...</td>\n      <td>2022-05-03 18:27:38</td>\n      <td>0</td>\n    </tr>\n    <tr>\n      <th>45</th>\n      <td>d*****g</td>\n      <td>373206536</td>\n      <td>2</td>\n      <td>NaN</td>\n      <td>Performance:The drive working well after two d...</td>\n      <td>9/5/2022 1:16</td>\n      <td>1</td>\n    </tr>\n    <tr>\n      <th>46</th>\n      <td>qila1212</td>\n      <td>52979980</td>\n      <td>3</td>\n      <td>NaN</td>\n      <td>There's no hard case free gift. Only the pouch...</td>\n      <td>2019-07-11 08:46:54</td>\n      <td>1</td>\n    </tr>\n    <tr>\n      <th>47</th>\n      <td>m*****o</td>\n      <td>68083399</td>\n      <td>1</td>\n      <td>NaN</td>\n      <td>Buying 2. Already told in chat that i buy 2. R...</td>\n      <td>12/2/2021 21:02</td>\n      <td>1</td>\n    </tr>\n    <tr>\n      <th>48</th>\n      <td>pxture</td>\n      <td>18091935</td>\n      <td>3</td>\n      <td>NaN</td>\n      <td>OK la for the price, this is not an authentic ...</td>\n      <td>2021-08-16 19:58:50</td>\n      <td>1</td>\n    </tr>\n    <tr>\n      <th>49</th>\n      <td>p*****2</td>\n      <td>252946205</td>\n      <td>5</td>\n      <td>NaN</td>\n      <td>Small and fits into palm. The colour is only o...</td>\n      <td>2021-07-14 02:13:51</td>\n      <td>1</td>\n    </tr>\n  </tbody>\n</table>\n</div>"
     },
     "execution_count": 4,
     "metadata": {},
     "output_type": "execute_result"
    }
   ],
   "source": [
    "df.head(50)"
   ],
   "metadata": {
    "collapsed": false,
    "pycharm": {
     "name": "#%%\n"
    }
   }
  },
  {
   "cell_type": "markdown",
   "source": [
    "# PHASE 1\n",
    "## Data Cleaning Malay Part 1\n",
    "1. Removing Nulls [Comment + Helpfulness]\n",
    "2. Convert All Values to String\n",
    "3. Filter only letters A-z 0 -9 only ;)\n",
    "\n",
    "## Feature Engineering Part 1\n",
    "1. Calc Length Words in Original Comment [Manglish]\n",
    "2. Calc Total Emoji ;)\n",
    "3. Calc Total Punctuation !!!!@!#!$!$....??\n",
    "4. Calc Total Capital Letters ASDAJNDOADNKkmajksdmad\n"
   ],
   "metadata": {
    "collapsed": false,
    "pycharm": {
     "name": "#%% md\n"
    }
   }
  },
  {
   "cell_type": "code",
   "execution_count": 5,
   "outputs": [
    {
     "name": "stdout",
     "output_type": "stream",
     "text": [
      "CPU times: total: 0 ns\n",
      "Wall time: 0 ns\n"
     ]
    }
   ],
   "source": [
    "%%time\n",
    "def cleaning(df):\n",
    "\n",
    "    #View overall original data\n",
    "    #dataChecking(df,1)\n",
    "\n",
    "    #Remove NaN and normalize {} to 0 for helpfulness\n",
    "    df['Comment'] = df['Comment'].replace('nan','NaN')\n",
    "    df['Helpfulness'] = df['Helpfulness'].fillna(0)\n",
    "\n",
    "\n",
    "    #View total empties before and after\n",
    "    #dataChecking(df,2)\n",
    "    df = df.dropna()\n",
    "    #dataChecking(df,2)\n",
    "\n",
    "\n",
    "    #Possibilty that some data may recognize as integers hence convrt -> string\n",
    "    df['CommentToStr'] = df['Comment'].apply(lambda x : convertToStr(x))\n",
    "\n",
    "\n",
    "    #removing def punc {!,$,#,%,^}\n",
    "    #[^\\w\\s]\n",
    "    #remove everything for text process only\n",
    "    #[^A-Za-z0-9]+\n",
    "    tokenizer = malaya.tokenizer.Tokenizer()\n",
    "    df['SimpleCommentManglish'] = df['CommentToStr'].apply(lambda x: removeTooLongAndSeparateNumAndWord(x,tokenizer) )\n",
    "\n",
    "\n",
    "    #Calc Length of words\n",
    "    df['LengthManglish'] = df['SimpleCommentManglish'].apply(lambda x : len(x.split(' ')))\n",
    "\n",
    "\n",
    "    #Calc Emoji\n",
    "    df['TotalEmoji'] = df['CommentToStr'].apply(lambda x : countEmoji(x))\n",
    "\n",
    "\n",
    "    #Calc Punct\n",
    "    df['TotalPunct'] = df['CommentToStr'].apply(lambda x : countPunct(x))\n",
    "\n",
    "\n",
    "    #Calc Caps\n",
    "    df['TotalCaps'] = df['CommentToStr'].apply(lambda x : countCaps(x))\n",
    "\n",
    "    return df"
   ],
   "metadata": {
    "collapsed": false,
    "pycharm": {
     "name": "#%%\n"
    }
   }
  },
  {
   "cell_type": "code",
   "execution_count": 6,
   "outputs": [],
   "source": [
    "df  = cleaning(df)\n",
    "#df.head(50)"
   ],
   "metadata": {
    "collapsed": false,
    "pycharm": {
     "name": "#%%\n"
    }
   }
  },
  {
   "cell_type": "markdown",
   "source": [
    "# PHASE 2\n",
    "## Data Cleaning Malay Part 2 [Final]\n",
    "1. Remove Elogated [bagussssss = bagus] & Repeated [bagus bagus bagus bagus = bagus]\n",
    "2. Normalize The Words [ko = engkau]\n",
    "3. Speller Corrector Malay [sbg = sebagai] If can't be corrected by Normalizer, Quite Long ;(\n",
    "4. Translation Malay -> English"
   ],
   "metadata": {
    "collapsed": false,
    "pycharm": {
     "name": "#%% md\n"
    }
   }
  },
  {
   "cell_type": "code",
   "execution_count": 7,
   "outputs": [
    {
     "name": "stdout",
     "output_type": "stream",
     "text": [
      "CPU times: total: 0 ns\n",
      "Wall time: 0 ns\n"
     ]
    }
   ],
   "source": [
    "%%time\n",
    "def preprocessing(df):\n",
    "    # Remove GPU & with to return to normal V2 Tensors\n",
    "\n",
    "    preprocessModel = malaya.preprocessing.preprocessing(normalize=['number'], annotate=['elongated', 'repeated'])\n",
    "    df['CommentClean1SimpleSpellCorrector'] = df['SimpleCommentManglish'].apply(lambda x : spellerCorrector(x,preprocessModel))\n",
    "    print(\"Simple Adjuster Done\")\n",
    "\n",
    "\n",
    "    normalizer = malaya.normalize.normalizer()\n",
    "    df['CommentClean2Normalizing'] = df['CommentClean1SimpleSpellCorrector'].apply(lambda x : malayNormalizer(x,normalizer))\n",
    "    print(\"Normalizer Done\")\n",
    "\n",
    "    # Use  En + M Normalize\n",
    "    # Old\n",
    "    \"\"\"normalizer = malaya.normalize.normalizer(malaya.spell.probability())\n",
    "    df['CommentClean2'] = df['CommentClean1'].apply(lambda x : malayNormalizer(x,normalizer))\n",
    "    print(\"Normalizer Done\")\"\"\"\n",
    "\n",
    "    \"\"\"model = malaya.transformer.load\n",
    "\n",
    "    (model = 'electra')\n",
    "    transformer_corrector = malaya.spelling_correction.transformer.encoder(model, sentence_piece = True)\n",
    "    df['CommentClean3'] = df['CommentClean2'].apply(lambda x : deepSpellerCorrector(x,transformer_corrector))\"\"\"\n",
    "\n",
    "    \"\"\"\n",
    "    # New\n",
    "    symspell_corrector = malaya.spelling_correction.symspell.load()\n",
    "    df['CommentClean3DeepSpellCorrector'] = df['CommentClean2Normalizing'].apply(lambda x : deepSpellerCorrector(x,symspell_corrector))\n",
    "    print(\"Deep Spell Done\")\n",
    "    \"\"\"\n",
    "\n",
    "    # Translators\n",
    "\n",
    "    modelMalayEnglishTranslator = malaya.translation.ms_en.transformer(model= 'noisy-base')\n",
    "    df['CommentClean4EnglishComment'] = df['CommentClean2Normalizing'].apply(lambda x : malayToEnglishTranslator(x,modelMalayEnglishTranslator).lower())\n",
    "\n",
    "    #tf.compat.v2.keras.backend.clear_session()\n",
    "    \"\"\"\n",
    "    df['CommentClean4EnglishComment'] = df['CommentClean2Normalizing'].apply(lambda x : usingGoogleTranslate(x))\n",
    "    print(\"Language Translated\")\n",
    "    \"\"\"\n",
    "\n",
    "    return df"
   ],
   "metadata": {
    "collapsed": false,
    "pycharm": {
     "name": "#%%\n"
    }
   }
  },
  {
   "cell_type": "code",
   "execution_count": 8,
   "outputs": [
    {
     "name": "stdout",
     "output_type": "stream",
     "text": [
      "Simple Adjuster Done\n",
      "Normalizer Done\n",
      "CPU times: total: 18min 48s\n",
      "Wall time: 13min 56s\n"
     ]
    }
   ],
   "source": [
    "%%time\n",
    "df = preprocessing(df)\n",
    "#df.head(50)"
   ],
   "metadata": {
    "collapsed": false,
    "pycharm": {
     "name": "#%%\n"
    }
   }
  },
  {
   "cell_type": "markdown",
   "source": [
    "# Export Result"
   ],
   "metadata": {
    "collapsed": false,
    "pycharm": {
     "name": "#%% md\n"
    }
   }
  },
  {
   "cell_type": "code",
   "execution_count": 9,
   "outputs": [],
   "source": [
    "df.to_csv(\"TestOnly.csv\", encoding='utf-8', index=False, mode='a')"
   ],
   "metadata": {
    "collapsed": false,
    "pycharm": {
     "name": "#%%\n"
    }
   }
  },
  {
   "cell_type": "markdown",
   "source": [],
   "metadata": {
    "collapsed": false,
    "pycharm": {
     "name": "#%% md\n"
    }
   }
  }
 ],
 "metadata": {
  "kernelspec": {
   "display_name": "Python 3",
   "language": "python",
   "name": "python3"
  },
  "language_info": {
   "codemirror_mode": {
    "name": "ipython",
    "version": 2
   },
   "file_extension": ".py",
   "mimetype": "text/x-python",
   "name": "python",
   "nbconvert_exporter": "python",
   "pygments_lexer": "ipython2",
   "version": "2.7.6"
  }
 },
 "nbformat": 4,
 "nbformat_minor": 0
}