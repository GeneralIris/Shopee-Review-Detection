{
 "cells": [
  {
   "cell_type": "code",
   "execution_count": 1,
   "metadata": {
    "collapsed": true,
    "pycharm": {
     "name": "#%%\n"
    }
   },
   "outputs": [],
   "source": [
    "import pandas as pd\n",
    "import numpy as np\n",
    "import seaborn as sns\n",
    "import matplotlib.pyplot as plt\n",
    "import joblib\n",
    "from sklearn.base import BaseEstimator, TransformerMixin\n",
    "\n",
    "from sklearn.model_selection import train_test_split\n",
    "from sklearn.model_selection import StratifiedKFold, KFold, cross_val_score\n",
    "\n",
    "\n",
    "from sklearn.pipeline import Pipeline\n",
    "from sklearn.feature_extraction.text import TfidfVectorizer\n",
    "\n",
    "from sklearn.pipeline import FeatureUnion\n",
    "\n",
    "from sklearn.ensemble import RandomForestClassifier\n",
    "from sklearn.svm import SVC\n",
    "from sklearn.naive_bayes import GaussianNB\n",
    "\n",
    "\n",
    "from sklearn.metrics import classification_report\n",
    "from sklearn.metrics import accuracy_score, f1_score, confusion_matrix\n",
    "\n",
    "import pickle\n",
    "\n",
    "\n",
    "from imblearn.over_sampling import SMOTE"
   ]
  },
  {
   "cell_type": "code",
   "execution_count": 2,
   "metadata": {
    "pycharm": {
     "name": "#%%\n"
    }
   },
   "outputs": [],
   "source": [
    "df = pd.read_csv('3.1ReviewsUpdatedDec19.csv', encoding='utf-8')\n"
   ]
  },
  {
   "cell_type": "code",
   "execution_count": 3,
   "outputs": [
    {
     "data": {
      "text/plain": "          Username     Userid  Rating  Helpfulness  \\\n0          i*****_  218195265       3          0.0   \n1    simonchan1905  705330191       1          1.0   \n2      ladydelilah   90528909       5          0.0   \n3       anna_aizad   34734312       1          7.0   \n4          b*****d  758613696       5          2.0   \n5     beskotkebeng  184848780       5          2.0   \n6      mikrobistro  554068149       2          3.0   \n7       suraya0806   30636902       5          0.0   \n8       aimestudio   39266309       5          0.0   \n9          j*****n  219751578       5          0.0   \n10     saifuda1660   12441141       4          4.0   \n11    isabellejy94  130688367       5          0.0   \n12         saytean   39400476       5          0.0   \n13      chiknazrin    2917734       5          0.0   \n14   aidilmohdsani  129907368       5          0.0   \n15   thevaluestore  240113243       5          0.0   \n16        onyxmist   61416778       5          0.0   \n17  kingsleyahtiam  165349292       1          1.0   \n18    vincechin103  133434338       5          0.0   \n19     jocelyn_loh   37100712       4          1.0   \n\n                                              Comment          TimeCreated  \\\n0   SSD boleh pakai cuma...bila dah transfer tetib...      2/25/2022 22:20   \n1   Never trust or purchase usb or sd card if the ...  2022-07-29 08:29:09   \n2   Alhamdulillah dh smpi, terus guna.. saje amek ...  2022-01-07 11:28:36   \n3   All my file corrupted after saving a few file ...  2022-07-13 14:28:30   \n4   Box came bubble-wrapped, so everything is in g...  2022-07-12 13:33:12   \n5   Copy speed based on your internal storage. Man...  2020-10-04 09:57:55   \n6   Barang sampai dlm keadaan baik tp kenapa hard ...      5/19/2022 12:27   \n7   Received item in good condition. Secure packag...  2021-08-18 19:00:41   \n8   Good Product Quality Seagate ✅\\nLaju. if nak s...  2021-06-28 03:17:32   \n9   Item received in good condition but yet to be ...  2021-06-22 20:41:30   \n10  Very nice & secured packaging. Externally no d...  2022-01-24 00:16:26   \n11  Speedy delivery + Product received in good con...  2022-03-17 17:33:36   \n12  Already lost count how many time i purchased f...  2022-06-09 16:19:24   \n13  Very quick delivery. Product is working as per...  2021-02-13 15:34:10   \n14                                            Nice tq  2021-06-22 10:42:33   \n15  Great product, does its job. Loving the casing...  2021-07-21 00:21:28   \n16  Good product. \\nGood value.\\nGood seller.\\nGoo...  2020-02-21 20:38:34   \n17  Don't buy! \\n1. Seller said this ssd can not b...       6/13/2022 2:21   \n18  Speedy dispatch and delivery! Excellent packag...  2020-09-29 13:57:34   \n19  Deeply disappointed seller only wrapped it by ...  2021-09-30 18:46:15   \n\n    Target                                       CommentToStr  \\\n0        1  SSD boleh pakai cuma...bila dah transfer tetib...   \n1        1  Never trust or purchase usb or sd card if the ...   \n2        0  Alhamdulillah dh smpi, terus guna.. saje amek ...   \n3        1  All my file corrupted after saving a few file ...   \n4        0  Box came bubble-wrapped, so everything is in g...   \n5        1  Copy speed based on your internal storage. Man...   \n6        1  Barang sampai dlm keadaan baik tp kenapa hard ...   \n7        0  Received item in good condition. Secure packag...   \n8        1  Good Product Quality Seagate ✅\\nLaju. if nak s...   \n9        0  Item received in good condition but yet to be ...   \n10       1  Very nice & secured packaging. Externally no d...   \n11       0  Speedy delivery + Product received in good con...   \n12       0  Already lost count how many time i purchased f...   \n13       0  Very quick delivery. Product is working as per...   \n14       0                                            Nice tq   \n15       0  Great product, does its job. Loving the casing...   \n16       0  Good product. \\nGood value.\\nGood seller.\\nGoo...   \n17       1  Don't buy! \\n1. Seller said this ssd can not b...   \n18       0  Speedy dispatch and delivery! Excellent packag...   \n19       0  Deeply disappointed seller only wrapped it by ...   \n\n                                SimpleCommentManglish  LengthManglish  ...  \\\n0   solid state drive boleh pakai cuma bila dah tr...              23  ...   \n1   never trust or purchase USB or sd card if the ...              42  ...   \n2   alhamdulillah dh sampai terus guna saje amek k...              14  ...   \n3   all saya punya file corrupted after saving a f...              30  ...   \n4   box came bubble wrapped so everything ialah da...              44  ...   \n5   copy speed based your internal storage manage ...              47  ...   \n6   barang sampai dlm keadaan baik tp kenapa hard ...              20  ...   \n7   received item dalam good condition secure pack...              10  ...   \n8   good product quality SEAGATE laju if nak simpa...              53  ...   \n9   item received dalam good condition but yet to ...              11  ...   \n10  very nice and secured packaging externally no ...              49  ...   \n11  speedy delivery product received dalam good co...               8  ...   \n12  already lost count how many time i purchased f...              17  ...   \n13  very quick delivery product ialah working sepe...              21  ...   \n14                                            nice tq               2  ...   \n15  great product does its job loving the casing k...              12  ...   \n16  good product good value good seller good job n...              13  ...   \n17  do not buy 1 seller said this solid state driv...              60  ...   \n18  speedy dispatch and delivery excellent packagi...               8  ...   \n19  deeply disappointed seller only wrapped it by ...              48  ...   \n\n                             EnglishExpandContraction  \\\n0   ['solid', 'state', 'drive', 'can', 'only', 'be...   \n1   ['i', 'never', 'trust', 'or', 'buy', 'usb', 'o...   \n2   ['thank', 'god', 'it', 'is', 'just', 'to', 'ta...   \n3   ['all', 'i', 'have', 'corrupted', 'file', 'aft...   \n4   ['the', 'box', 'came', 'bubble', 'wrapped', 's...   \n5   ['your', 'internal', 'speed', 'copy', 'manages...   \n6   ['goods', 'are', 'in', 'good', 'condition', 'b...   \n7   ['received', 'an', 'item', 'in', 'good', 'cond...   \n8   ['seagate', 'quality', 'product', 'is', 'quick...   \n9   ['the', 'item', 'received', 'is', 'in', 'good'...   \n10  ['very', 'nice', 'and', 'secured', 'packaging'...   \n11  ['the', 'speedy', 'delivery', 'of', 'the', 'pr...   \n12  ['i', 'have', 'already', 'lost', 'the', 'count...   \n13  ['very', 'quick', 'delivery', 'product', 'is',...   \n14                                  ['thank', 'you.']   \n15  ['great', 'product', 'does', 'its', 'loving', ...   \n16  ['good', 'product', 'good', 'value', 'good', '...   \n17  ['do', 'not', 'buy', 'seller', 'said', 'this',...   \n18  ['the', 'speedy', 'dispatch', 'and', 'excellen...   \n19  ['deeply', 'disappointed', 'seller', 'only', '...   \n\n                                              PosTags  FrequencyAdverbs  \\\n0   ['JJ', 'NN', 'NN', 'MD', 'RB', 'VB', 'VBN', 'W...          0.090909   \n1   ['NN', 'RB', 'NN', 'CC', 'VB', 'JJ', 'CC', 'JJ...          0.088889   \n2   ['NN', 'NN', 'PRP', 'VBZ', 'RB', 'TO', 'VB', '...          0.071429   \n3   ['DT', 'NNS', 'VBP', 'VBN', 'NN', 'IN', 'VBG',...          0.064516   \n4   ['DT', 'NN', 'VBD', 'JJ', 'VBN', 'RB', 'DT', '...          0.073171   \n5   ['PRP$', 'JJ', 'NN', 'NN', 'VBZ', 'TO', 'VB', ...          0.000000   \n6   ['NNS', 'VBP', 'IN', 'JJ', 'NN', 'CC', 'WRB', ...          0.000000   \n7   ['VBD', 'DT', 'NN', 'IN', 'JJ', 'NN', 'NN', 'D...          0.000000   \n8   ['JJ', 'NN', 'NN', 'VBZ', 'JJ', 'TO', 'VB', 'D...          0.100000   \n9   ['DT', 'NN', 'VBD', 'VBZ', 'IN', 'JJ', 'NN', '...          0.166667   \n10  ['RB', 'JJ', 'CC', 'JJ', 'NN', 'RB', 'DT', 'NN...          0.181818   \n11  ['DT', 'JJ', 'NN', 'IN', 'DT', 'NN', 'VBZ', 'V...          0.000000   \n12  ['NNS', 'VBP', 'RB', 'VBN', 'DT', 'NN', 'IN', ...          0.050000   \n13  ['RB', 'JJ', 'NN', 'NN', 'VBZ', 'VBG', 'IN', '...          0.050000   \n14                                       ['NN', 'NN']          0.000000   \n15  ['JJ', 'NN', 'VBZ', 'PRP$', 'NN', 'NN', 'VB', ...          0.000000   \n16  ['JJ', 'NN', 'JJ', 'NN', 'JJ', 'NN', 'JJ', 'NN...          0.083333   \n17  ['VBP', 'RB', 'VB', 'NN', 'VBD', 'DT', 'JJ', '...          0.096154   \n18  ['DT', 'NN', 'NN', 'CC', 'JJ', 'NN', 'NN', 'VB...          0.100000   \n19  ['RB', 'JJ', 'NN', 'RB', 'VBD', 'PRP', 'IN', '...          0.125000   \n\n   FrequencyVerbs FrequencyAdjectives FrequencyNouns  \\\n0        0.181818            0.090909       0.318182   \n1        0.200000            0.177778       0.200000   \n2        0.214286            0.071429       0.357143   \n3        0.258065            0.129032       0.290323   \n4        0.195122            0.268293       0.243902   \n5        0.285714            0.142857       0.285714   \n6        0.240000            0.120000       0.240000   \n7        0.076923            0.076923       0.461538   \n8        0.200000            0.140000       0.260000   \n9        0.333333            0.083333       0.166667   \n10       0.204545            0.136364       0.204545   \n11       0.181818            0.181818       0.272727   \n12       0.200000            0.100000       0.350000   \n13       0.100000            0.100000       0.400000   \n14       0.000000            0.000000       1.000000   \n15       0.222222            0.111111       0.333333   \n16       0.083333            0.416667       0.416667   \n17       0.230769            0.115385       0.250000   \n18       0.100000            0.200000       0.400000   \n19       0.145833            0.104167       0.270833   \n\n                                            StopWords  \\\n0   ['solid', 'state', 'drive', 'used', 'moving', ...   \n1   ['never', 'trust', 'buy', 'usb', 'sd', 'card',...   \n2   ['thank', 'god', 'take', 'pink', 'kaler', 'fan...   \n3   ['corrupted', 'file', 'saving', 'files', 'even...   \n4   ['box', 'came', 'bubble', 'wrapped', 'good', '...   \n5   ['internal', 'speed', 'copy', 'manages', 'get'...   \n6   ['goods', 'good', 'condition', 'hard', 'disc',...   \n7   ['received', 'item', 'good', 'condition,', 'se...   \n8   ['seagate', 'quality', 'product', 'quick', 'ke...   \n9   ['item', 'received', 'good', 'condition', 'yet...   \n10  ['nice', 'secured', 'packaging', 'externally',...   \n11  ['speedy', 'delivery', 'product', 'received', ...   \n12  ['already', 'lost', 'count', 'much', 'time', '...   \n13  ['quick', 'delivery', 'product', 'working', 'p...   \n14                                  ['thank', 'you.']   \n15     ['great', 'product', 'loving', 'work', 'keep']   \n16  ['good', 'product', 'good', 'value', 'good', '...   \n17  ['buy', 'seller', 'said', 'solid', 'state', 'd...   \n18  ['speedy', 'dispatch', 'excellent', 'delivery'...   \n19  ['deeply', 'disappointed', 'seller', 'wrapped'...   \n\n                             LatestPosTagForLemmatize  \\\n0   ['JJ', 'NN', 'NN', 'VBN', 'VBG', 'NN', 'JJ', '...   \n1   ['RB', 'NN', 'VB', 'JJ', 'JJ', 'NN', 'NN', 'JJ...   \n2         ['NN', 'NN', 'VB', 'NN', 'NN', 'NNS', 'JJ']   \n3   ['VBN', 'NN', 'VBG', 'NNS', 'RB', 'IN', 'VBP',...   \n4   ['NN', 'VBD', 'JJ', 'VBN', 'JJ', 'NN', 'NN', '...   \n5   ['JJ', 'NN', 'NN', 'VBZ', 'VB', 'NNS', 'VB', '...   \n6   ['NNS', 'JJ', 'NN', 'JJ', 'VB', 'VBP', 'VB', '...   \n7   ['VBD', 'NN', 'JJ', 'NN', 'NN', 'NN', 'NN', 'NN']   \n8   ['JJ', 'NN', 'NN', 'JJ', 'VB', 'NN', 'VBG', 'J...   \n9              ['NN', 'VBD', 'JJ', 'NN', 'RB', 'VBN']   \n10  ['JJ', 'JJ', 'NN', 'RB', 'NN', 'NN', 'VBD', 'M...   \n11              ['JJ', 'NN', 'NN', 'VBN', 'JJ', 'NN']   \n12  ['RB', 'VBN', 'NN', 'JJ', 'NN', 'VBN', 'JJ', '...   \n13  ['JJ', 'NN', 'NN', 'VBG', 'IN', 'NN', 'NN', 'J...   \n14                                       ['NN', 'NN']   \n15                     ['JJ', 'NN', 'NN', 'NN', 'VB']   \n16  ['JJ', 'NN', 'JJ', 'NN', 'JJ', 'NN', 'JJ', 'NN...   \n17  ['VB', 'NN', 'VBD', 'JJ', 'NN', 'NN', 'NN', 'N...   \n18         ['NN', 'NN', 'JJ', 'NN', 'NN', 'RB', 'JJ']   \n19  ['RB', 'JJ', 'NN', 'VBD', 'NN', 'JJ', 'NN', 'J...   \n\n                                             Lematize  \\\n0   ['solid', 'state', 'drive', 'use', 'move', 'fi...   \n1   ['never', 'trust', 'buy', 'usb', 'sd', 'card',...   \n2   ['thank', 'god', 'take', 'pink', 'kaler', 'fan...   \n3   ['corrupt', 'file', 'save', 'file', 'even', 't...   \n4   ['box', 'come', 'bubble', 'wrap', 'good', 'con...   \n5   ['internal', 'speed', 'copy', 'manage', 'get',...   \n6   ['good', 'good', 'condition', 'hard', 'disc', ...   \n7   ['receive', 'item', 'good', 'condition,', 'sec...   \n8   ['seagate', 'quality', 'product', 'quick', 'ke...   \n9   ['item', 'receive', 'good', 'condition', 'yet'...   \n10  ['nice', 'secured', 'packaging', 'externally',...   \n11  ['speedy', 'delivery', 'product', 'receive', '...   \n12  ['already', 'lose', 'count', 'much', 'time', '...   \n13  ['quick', 'delivery', 'product', 'work', 'per'...   \n14                                  ['thank', 'you.']   \n15     ['great', 'product', 'loving', 'work', 'keep']   \n16  ['good', 'product', 'good', 'value', 'good', '...   \n17  ['buy', 'seller', 'say', 'solid', 'state', 'dr...   \n18  ['speedy', 'dispatch', 'excellent', 'delivery'...   \n19  ['deeply', 'disappointed', 'seller', 'wrap', '...   \n\n                                    FinalCleanComment  \n0   solid state drive use move file empty waste ti...  \n1   never trust buy usb sd card price good true le...  \n2               thank god take pink kaler fan pretty.  \n3   corrupt file save file even though buy solid s...  \n4   box come bubble wrap good condition capacity t...  \n5   internal speed copy manage get megabyte write ...  \n6   good good condition hard disc cannot copy past...  \n7   receive item good condition, secure packaging ...  \n8   seagate quality product quick keep movie buy h...  \n9                item receive good condition yet test  \n10  nice secured packaging externally damage issue...  \n11     speedy delivery product receive good condition  \n12  already lose count much time purchase excellen...  \n13  quick delivery product work per specification ...  \n14                                         thank you.  \n15                     great product loving work keep  \n16  good product good value good seller good job g...  \n17  buy seller say solid state drive seller format...  \n18  speedy dispatch excellent delivery packaging h...  \n19  deeply disappointed seller wrap bit bubbles wr...  \n\n[20 rows x 27 columns]",
      "text/html": "<div>\n<style scoped>\n    .dataframe tbody tr th:only-of-type {\n        vertical-align: middle;\n    }\n\n    .dataframe tbody tr th {\n        vertical-align: top;\n    }\n\n    .dataframe thead th {\n        text-align: right;\n    }\n</style>\n<table border=\"1\" class=\"dataframe\">\n  <thead>\n    <tr style=\"text-align: right;\">\n      <th></th>\n      <th>Username</th>\n      <th>Userid</th>\n      <th>Rating</th>\n      <th>Helpfulness</th>\n      <th>Comment</th>\n      <th>TimeCreated</th>\n      <th>Target</th>\n      <th>CommentToStr</th>\n      <th>SimpleCommentManglish</th>\n      <th>LengthManglish</th>\n      <th>...</th>\n      <th>EnglishExpandContraction</th>\n      <th>PosTags</th>\n      <th>FrequencyAdverbs</th>\n      <th>FrequencyVerbs</th>\n      <th>FrequencyAdjectives</th>\n      <th>FrequencyNouns</th>\n      <th>StopWords</th>\n      <th>LatestPosTagForLemmatize</th>\n      <th>Lematize</th>\n      <th>FinalCleanComment</th>\n    </tr>\n  </thead>\n  <tbody>\n    <tr>\n      <th>0</th>\n      <td>i*****_</td>\n      <td>218195265</td>\n      <td>3</td>\n      <td>0.0</td>\n      <td>SSD boleh pakai cuma...bila dah transfer tetib...</td>\n      <td>2/25/2022 22:20</td>\n      <td>1</td>\n      <td>SSD boleh pakai cuma...bila dah transfer tetib...</td>\n      <td>solid state drive boleh pakai cuma bila dah tr...</td>\n      <td>23</td>\n      <td>...</td>\n      <td>['solid', 'state', 'drive', 'can', 'only', 'be...</td>\n      <td>['JJ', 'NN', 'NN', 'MD', 'RB', 'VB', 'VBN', 'W...</td>\n      <td>0.090909</td>\n      <td>0.181818</td>\n      <td>0.090909</td>\n      <td>0.318182</td>\n      <td>['solid', 'state', 'drive', 'used', 'moving', ...</td>\n      <td>['JJ', 'NN', 'NN', 'VBN', 'VBG', 'NN', 'JJ', '...</td>\n      <td>['solid', 'state', 'drive', 'use', 'move', 'fi...</td>\n      <td>solid state drive use move file empty waste ti...</td>\n    </tr>\n    <tr>\n      <th>1</th>\n      <td>simonchan1905</td>\n      <td>705330191</td>\n      <td>1</td>\n      <td>1.0</td>\n      <td>Never trust or purchase usb or sd card if the ...</td>\n      <td>2022-07-29 08:29:09</td>\n      <td>1</td>\n      <td>Never trust or purchase usb or sd card if the ...</td>\n      <td>never trust or purchase USB or sd card if the ...</td>\n      <td>42</td>\n      <td>...</td>\n      <td>['i', 'never', 'trust', 'or', 'buy', 'usb', 'o...</td>\n      <td>['NN', 'RB', 'NN', 'CC', 'VB', 'JJ', 'CC', 'JJ...</td>\n      <td>0.088889</td>\n      <td>0.200000</td>\n      <td>0.177778</td>\n      <td>0.200000</td>\n      <td>['never', 'trust', 'buy', 'usb', 'sd', 'card',...</td>\n      <td>['RB', 'NN', 'VB', 'JJ', 'JJ', 'NN', 'NN', 'JJ...</td>\n      <td>['never', 'trust', 'buy', 'usb', 'sd', 'card',...</td>\n      <td>never trust buy usb sd card price good true le...</td>\n    </tr>\n    <tr>\n      <th>2</th>\n      <td>ladydelilah</td>\n      <td>90528909</td>\n      <td>5</td>\n      <td>0.0</td>\n      <td>Alhamdulillah dh smpi, terus guna.. saje amek ...</td>\n      <td>2022-01-07 11:28:36</td>\n      <td>0</td>\n      <td>Alhamdulillah dh smpi, terus guna.. saje amek ...</td>\n      <td>alhamdulillah dh sampai terus guna saje amek k...</td>\n      <td>14</td>\n      <td>...</td>\n      <td>['thank', 'god', 'it', 'is', 'just', 'to', 'ta...</td>\n      <td>['NN', 'NN', 'PRP', 'VBZ', 'RB', 'TO', 'VB', '...</td>\n      <td>0.071429</td>\n      <td>0.214286</td>\n      <td>0.071429</td>\n      <td>0.357143</td>\n      <td>['thank', 'god', 'take', 'pink', 'kaler', 'fan...</td>\n      <td>['NN', 'NN', 'VB', 'NN', 'NN', 'NNS', 'JJ']</td>\n      <td>['thank', 'god', 'take', 'pink', 'kaler', 'fan...</td>\n      <td>thank god take pink kaler fan pretty.</td>\n    </tr>\n    <tr>\n      <th>3</th>\n      <td>anna_aizad</td>\n      <td>34734312</td>\n      <td>1</td>\n      <td>7.0</td>\n      <td>All my file corrupted after saving a few file ...</td>\n      <td>2022-07-13 14:28:30</td>\n      <td>1</td>\n      <td>All my file corrupted after saving a few file ...</td>\n      <td>all saya punya file corrupted after saving a f...</td>\n      <td>30</td>\n      <td>...</td>\n      <td>['all', 'i', 'have', 'corrupted', 'file', 'aft...</td>\n      <td>['DT', 'NNS', 'VBP', 'VBN', 'NN', 'IN', 'VBG',...</td>\n      <td>0.064516</td>\n      <td>0.258065</td>\n      <td>0.129032</td>\n      <td>0.290323</td>\n      <td>['corrupted', 'file', 'saving', 'files', 'even...</td>\n      <td>['VBN', 'NN', 'VBG', 'NNS', 'RB', 'IN', 'VBP',...</td>\n      <td>['corrupt', 'file', 'save', 'file', 'even', 't...</td>\n      <td>corrupt file save file even though buy solid s...</td>\n    </tr>\n    <tr>\n      <th>4</th>\n      <td>b*****d</td>\n      <td>758613696</td>\n      <td>5</td>\n      <td>2.0</td>\n      <td>Box came bubble-wrapped, so everything is in g...</td>\n      <td>2022-07-12 13:33:12</td>\n      <td>0</td>\n      <td>Box came bubble-wrapped, so everything is in g...</td>\n      <td>box came bubble wrapped so everything ialah da...</td>\n      <td>44</td>\n      <td>...</td>\n      <td>['the', 'box', 'came', 'bubble', 'wrapped', 's...</td>\n      <td>['DT', 'NN', 'VBD', 'JJ', 'VBN', 'RB', 'DT', '...</td>\n      <td>0.073171</td>\n      <td>0.195122</td>\n      <td>0.268293</td>\n      <td>0.243902</td>\n      <td>['box', 'came', 'bubble', 'wrapped', 'good', '...</td>\n      <td>['NN', 'VBD', 'JJ', 'VBN', 'JJ', 'NN', 'NN', '...</td>\n      <td>['box', 'come', 'bubble', 'wrap', 'good', 'con...</td>\n      <td>box come bubble wrap good condition capacity t...</td>\n    </tr>\n    <tr>\n      <th>5</th>\n      <td>beskotkebeng</td>\n      <td>184848780</td>\n      <td>5</td>\n      <td>2.0</td>\n      <td>Copy speed based on your internal storage. Man...</td>\n      <td>2020-10-04 09:57:55</td>\n      <td>1</td>\n      <td>Copy speed based on your internal storage. Man...</td>\n      <td>copy speed based your internal storage manage ...</td>\n      <td>47</td>\n      <td>...</td>\n      <td>['your', 'internal', 'speed', 'copy', 'manages...</td>\n      <td>['PRP$', 'JJ', 'NN', 'NN', 'VBZ', 'TO', 'VB', ...</td>\n      <td>0.000000</td>\n      <td>0.285714</td>\n      <td>0.142857</td>\n      <td>0.285714</td>\n      <td>['internal', 'speed', 'copy', 'manages', 'get'...</td>\n      <td>['JJ', 'NN', 'NN', 'VBZ', 'VB', 'NNS', 'VB', '...</td>\n      <td>['internal', 'speed', 'copy', 'manage', 'get',...</td>\n      <td>internal speed copy manage get megabyte write ...</td>\n    </tr>\n    <tr>\n      <th>6</th>\n      <td>mikrobistro</td>\n      <td>554068149</td>\n      <td>2</td>\n      <td>3.0</td>\n      <td>Barang sampai dlm keadaan baik tp kenapa hard ...</td>\n      <td>5/19/2022 12:27</td>\n      <td>1</td>\n      <td>Barang sampai dlm keadaan baik tp kenapa hard ...</td>\n      <td>barang sampai dlm keadaan baik tp kenapa hard ...</td>\n      <td>20</td>\n      <td>...</td>\n      <td>['goods', 'are', 'in', 'good', 'condition', 'b...</td>\n      <td>['NNS', 'VBP', 'IN', 'JJ', 'NN', 'CC', 'WRB', ...</td>\n      <td>0.000000</td>\n      <td>0.240000</td>\n      <td>0.120000</td>\n      <td>0.240000</td>\n      <td>['goods', 'good', 'condition', 'hard', 'disc',...</td>\n      <td>['NNS', 'JJ', 'NN', 'JJ', 'VB', 'VBP', 'VB', '...</td>\n      <td>['good', 'good', 'condition', 'hard', 'disc', ...</td>\n      <td>good good condition hard disc cannot copy past...</td>\n    </tr>\n    <tr>\n      <th>7</th>\n      <td>suraya0806</td>\n      <td>30636902</td>\n      <td>5</td>\n      <td>0.0</td>\n      <td>Received item in good condition. Secure packag...</td>\n      <td>2021-08-18 19:00:41</td>\n      <td>0</td>\n      <td>Received item in good condition. Secure packag...</td>\n      <td>received item dalam good condition secure pack...</td>\n      <td>10</td>\n      <td>...</td>\n      <td>['received', 'an', 'item', 'in', 'good', 'cond...</td>\n      <td>['VBD', 'DT', 'NN', 'IN', 'JJ', 'NN', 'NN', 'D...</td>\n      <td>0.000000</td>\n      <td>0.076923</td>\n      <td>0.076923</td>\n      <td>0.461538</td>\n      <td>['received', 'item', 'good', 'condition,', 'se...</td>\n      <td>['VBD', 'NN', 'JJ', 'NN', 'NN', 'NN', 'NN', 'NN']</td>\n      <td>['receive', 'item', 'good', 'condition,', 'sec...</td>\n      <td>receive item good condition, secure packaging ...</td>\n    </tr>\n    <tr>\n      <th>8</th>\n      <td>aimestudio</td>\n      <td>39266309</td>\n      <td>5</td>\n      <td>0.0</td>\n      <td>Good Product Quality Seagate ✅\\nLaju. if nak s...</td>\n      <td>2021-06-28 03:17:32</td>\n      <td>1</td>\n      <td>Good Product Quality Seagate ✅\\nLaju. if nak s...</td>\n      <td>good product quality SEAGATE laju if nak simpa...</td>\n      <td>53</td>\n      <td>...</td>\n      <td>['seagate', 'quality', 'product', 'is', 'quick...</td>\n      <td>['JJ', 'NN', 'NN', 'VBZ', 'JJ', 'TO', 'VB', 'D...</td>\n      <td>0.100000</td>\n      <td>0.200000</td>\n      <td>0.140000</td>\n      <td>0.260000</td>\n      <td>['seagate', 'quality', 'product', 'quick', 'ke...</td>\n      <td>['JJ', 'NN', 'NN', 'JJ', 'VB', 'NN', 'VBG', 'J...</td>\n      <td>['seagate', 'quality', 'product', 'quick', 'ke...</td>\n      <td>seagate quality product quick keep movie buy h...</td>\n    </tr>\n    <tr>\n      <th>9</th>\n      <td>j*****n</td>\n      <td>219751578</td>\n      <td>5</td>\n      <td>0.0</td>\n      <td>Item received in good condition but yet to be ...</td>\n      <td>2021-06-22 20:41:30</td>\n      <td>0</td>\n      <td>Item received in good condition but yet to be ...</td>\n      <td>item received dalam good condition but yet to ...</td>\n      <td>11</td>\n      <td>...</td>\n      <td>['the', 'item', 'received', 'is', 'in', 'good'...</td>\n      <td>['DT', 'NN', 'VBD', 'VBZ', 'IN', 'JJ', 'NN', '...</td>\n      <td>0.166667</td>\n      <td>0.333333</td>\n      <td>0.083333</td>\n      <td>0.166667</td>\n      <td>['item', 'received', 'good', 'condition', 'yet...</td>\n      <td>['NN', 'VBD', 'JJ', 'NN', 'RB', 'VBN']</td>\n      <td>['item', 'receive', 'good', 'condition', 'yet'...</td>\n      <td>item receive good condition yet test</td>\n    </tr>\n    <tr>\n      <th>10</th>\n      <td>saifuda1660</td>\n      <td>12441141</td>\n      <td>4</td>\n      <td>4.0</td>\n      <td>Very nice &amp; secured packaging. Externally no d...</td>\n      <td>2022-01-24 00:16:26</td>\n      <td>1</td>\n      <td>Very nice &amp; secured packaging. Externally no d...</td>\n      <td>very nice and secured packaging externally no ...</td>\n      <td>49</td>\n      <td>...</td>\n      <td>['very', 'nice', 'and', 'secured', 'packaging'...</td>\n      <td>['RB', 'JJ', 'CC', 'JJ', 'NN', 'RB', 'DT', 'NN...</td>\n      <td>0.181818</td>\n      <td>0.204545</td>\n      <td>0.136364</td>\n      <td>0.204545</td>\n      <td>['nice', 'secured', 'packaging', 'externally',...</td>\n      <td>['JJ', 'JJ', 'NN', 'RB', 'NN', 'NN', 'VBD', 'M...</td>\n      <td>['nice', 'secured', 'packaging', 'externally',...</td>\n      <td>nice secured packaging externally damage issue...</td>\n    </tr>\n    <tr>\n      <th>11</th>\n      <td>isabellejy94</td>\n      <td>130688367</td>\n      <td>5</td>\n      <td>0.0</td>\n      <td>Speedy delivery + Product received in good con...</td>\n      <td>2022-03-17 17:33:36</td>\n      <td>0</td>\n      <td>Speedy delivery + Product received in good con...</td>\n      <td>speedy delivery product received dalam good co...</td>\n      <td>8</td>\n      <td>...</td>\n      <td>['the', 'speedy', 'delivery', 'of', 'the', 'pr...</td>\n      <td>['DT', 'JJ', 'NN', 'IN', 'DT', 'NN', 'VBZ', 'V...</td>\n      <td>0.000000</td>\n      <td>0.181818</td>\n      <td>0.181818</td>\n      <td>0.272727</td>\n      <td>['speedy', 'delivery', 'product', 'received', ...</td>\n      <td>['JJ', 'NN', 'NN', 'VBN', 'JJ', 'NN']</td>\n      <td>['speedy', 'delivery', 'product', 'receive', '...</td>\n      <td>speedy delivery product receive good condition</td>\n    </tr>\n    <tr>\n      <th>12</th>\n      <td>saytean</td>\n      <td>39400476</td>\n      <td>5</td>\n      <td>0.0</td>\n      <td>Already lost count how many time i purchased f...</td>\n      <td>2022-06-09 16:19:24</td>\n      <td>0</td>\n      <td>Already lost count how many time i purchased f...</td>\n      <td>already lost count how many time i purchased f...</td>\n      <td>17</td>\n      <td>...</td>\n      <td>['i', 'have', 'already', 'lost', 'the', 'count...</td>\n      <td>['NNS', 'VBP', 'RB', 'VBN', 'DT', 'NN', 'IN', ...</td>\n      <td>0.050000</td>\n      <td>0.200000</td>\n      <td>0.100000</td>\n      <td>0.350000</td>\n      <td>['already', 'lost', 'count', 'much', 'time', '...</td>\n      <td>['RB', 'VBN', 'NN', 'JJ', 'NN', 'VBN', 'JJ', '...</td>\n      <td>['already', 'lose', 'count', 'much', 'time', '...</td>\n      <td>already lose count much time purchase excellen...</td>\n    </tr>\n    <tr>\n      <th>13</th>\n      <td>chiknazrin</td>\n      <td>2917734</td>\n      <td>5</td>\n      <td>0.0</td>\n      <td>Very quick delivery. Product is working as per...</td>\n      <td>2021-02-13 15:34:10</td>\n      <td>0</td>\n      <td>Very quick delivery. Product is working as per...</td>\n      <td>very quick delivery product ialah working sepe...</td>\n      <td>21</td>\n      <td>...</td>\n      <td>['very', 'quick', 'delivery', 'product', 'is',...</td>\n      <td>['RB', 'JJ', 'NN', 'NN', 'VBZ', 'VBG', 'IN', '...</td>\n      <td>0.050000</td>\n      <td>0.100000</td>\n      <td>0.100000</td>\n      <td>0.400000</td>\n      <td>['quick', 'delivery', 'product', 'working', 'p...</td>\n      <td>['JJ', 'NN', 'NN', 'VBG', 'IN', 'NN', 'NN', 'J...</td>\n      <td>['quick', 'delivery', 'product', 'work', 'per'...</td>\n      <td>quick delivery product work per specification ...</td>\n    </tr>\n    <tr>\n      <th>14</th>\n      <td>aidilmohdsani</td>\n      <td>129907368</td>\n      <td>5</td>\n      <td>0.0</td>\n      <td>Nice tq</td>\n      <td>2021-06-22 10:42:33</td>\n      <td>0</td>\n      <td>Nice tq</td>\n      <td>nice tq</td>\n      <td>2</td>\n      <td>...</td>\n      <td>['thank', 'you.']</td>\n      <td>['NN', 'NN']</td>\n      <td>0.000000</td>\n      <td>0.000000</td>\n      <td>0.000000</td>\n      <td>1.000000</td>\n      <td>['thank', 'you.']</td>\n      <td>['NN', 'NN']</td>\n      <td>['thank', 'you.']</td>\n      <td>thank you.</td>\n    </tr>\n    <tr>\n      <th>15</th>\n      <td>thevaluestore</td>\n      <td>240113243</td>\n      <td>5</td>\n      <td>0.0</td>\n      <td>Great product, does its job. Loving the casing...</td>\n      <td>2021-07-21 00:21:28</td>\n      <td>0</td>\n      <td>Great product, does its job. Loving the casing...</td>\n      <td>great product does its job loving the casing k...</td>\n      <td>12</td>\n      <td>...</td>\n      <td>['great', 'product', 'does', 'its', 'loving', ...</td>\n      <td>['JJ', 'NN', 'VBZ', 'PRP$', 'NN', 'NN', 'VB', ...</td>\n      <td>0.000000</td>\n      <td>0.222222</td>\n      <td>0.111111</td>\n      <td>0.333333</td>\n      <td>['great', 'product', 'loving', 'work', 'keep']</td>\n      <td>['JJ', 'NN', 'NN', 'NN', 'VB']</td>\n      <td>['great', 'product', 'loving', 'work', 'keep']</td>\n      <td>great product loving work keep</td>\n    </tr>\n    <tr>\n      <th>16</th>\n      <td>onyxmist</td>\n      <td>61416778</td>\n      <td>5</td>\n      <td>0.0</td>\n      <td>Good product. \\nGood value.\\nGood seller.\\nGoo...</td>\n      <td>2020-02-21 20:38:34</td>\n      <td>0</td>\n      <td>Good product. \\nGood value.\\nGood seller.\\nGoo...</td>\n      <td>good product good value good seller good job n...</td>\n      <td>13</td>\n      <td>...</td>\n      <td>['good', 'product', 'good', 'value', 'good', '...</td>\n      <td>['JJ', 'NN', 'JJ', 'NN', 'JJ', 'NN', 'JJ', 'NN...</td>\n      <td>0.083333</td>\n      <td>0.083333</td>\n      <td>0.416667</td>\n      <td>0.416667</td>\n      <td>['good', 'product', 'good', 'value', 'good', '...</td>\n      <td>['JJ', 'NN', 'JJ', 'NN', 'JJ', 'NN', 'JJ', 'NN...</td>\n      <td>['good', 'product', 'good', 'value', 'good', '...</td>\n      <td>good product good value good seller good job g...</td>\n    </tr>\n    <tr>\n      <th>17</th>\n      <td>kingsleyahtiam</td>\n      <td>165349292</td>\n      <td>1</td>\n      <td>1.0</td>\n      <td>Don't buy! \\n1. Seller said this ssd can not b...</td>\n      <td>6/13/2022 2:21</td>\n      <td>1</td>\n      <td>Don't buy! \\n1. Seller said this ssd can not b...</td>\n      <td>do not buy 1 seller said this solid state driv...</td>\n      <td>60</td>\n      <td>...</td>\n      <td>['do', 'not', 'buy', 'seller', 'said', 'this',...</td>\n      <td>['VBP', 'RB', 'VB', 'NN', 'VBD', 'DT', 'JJ', '...</td>\n      <td>0.096154</td>\n      <td>0.230769</td>\n      <td>0.115385</td>\n      <td>0.250000</td>\n      <td>['buy', 'seller', 'said', 'solid', 'state', 'd...</td>\n      <td>['VB', 'NN', 'VBD', 'JJ', 'NN', 'NN', 'NN', 'N...</td>\n      <td>['buy', 'seller', 'say', 'solid', 'state', 'dr...</td>\n      <td>buy seller say solid state drive seller format...</td>\n    </tr>\n    <tr>\n      <th>18</th>\n      <td>vincechin103</td>\n      <td>133434338</td>\n      <td>5</td>\n      <td>0.0</td>\n      <td>Speedy dispatch and delivery! Excellent packag...</td>\n      <td>2020-09-29 13:57:34</td>\n      <td>0</td>\n      <td>Speedy dispatch and delivery! Excellent packag...</td>\n      <td>speedy dispatch and delivery excellent packagi...</td>\n      <td>8</td>\n      <td>...</td>\n      <td>['the', 'speedy', 'dispatch', 'and', 'excellen...</td>\n      <td>['DT', 'NN', 'NN', 'CC', 'JJ', 'NN', 'NN', 'VB...</td>\n      <td>0.100000</td>\n      <td>0.100000</td>\n      <td>0.200000</td>\n      <td>0.400000</td>\n      <td>['speedy', 'dispatch', 'excellent', 'delivery'...</td>\n      <td>['NN', 'NN', 'JJ', 'NN', 'NN', 'RB', 'JJ']</td>\n      <td>['speedy', 'dispatch', 'excellent', 'delivery'...</td>\n      <td>speedy dispatch excellent delivery packaging h...</td>\n    </tr>\n    <tr>\n      <th>19</th>\n      <td>jocelyn_loh</td>\n      <td>37100712</td>\n      <td>4</td>\n      <td>1.0</td>\n      <td>Deeply disappointed seller only wrapped it by ...</td>\n      <td>2021-09-30 18:46:15</td>\n      <td>0</td>\n      <td>Deeply disappointed seller only wrapped it by ...</td>\n      <td>deeply disappointed seller only wrapped it by ...</td>\n      <td>48</td>\n      <td>...</td>\n      <td>['deeply', 'disappointed', 'seller', 'only', '...</td>\n      <td>['RB', 'JJ', 'NN', 'RB', 'VBD', 'PRP', 'IN', '...</td>\n      <td>0.125000</td>\n      <td>0.145833</td>\n      <td>0.104167</td>\n      <td>0.270833</td>\n      <td>['deeply', 'disappointed', 'seller', 'wrapped'...</td>\n      <td>['RB', 'JJ', 'NN', 'VBD', 'NN', 'JJ', 'NN', 'J...</td>\n      <td>['deeply', 'disappointed', 'seller', 'wrap', '...</td>\n      <td>deeply disappointed seller wrap bit bubbles wr...</td>\n    </tr>\n  </tbody>\n</table>\n<p>20 rows × 27 columns</p>\n</div>"
     },
     "execution_count": 3,
     "metadata": {},
     "output_type": "execute_result"
    }
   ],
   "source": [
    "df.head(20)"
   ],
   "metadata": {
    "collapsed": false,
    "pycharm": {
     "name": "#%%\n"
    }
   }
  },
  {
   "cell_type": "markdown",
   "metadata": {
    "pycharm": {
     "name": "#%% md\n"
    }
   },
   "source": [
    "# VIEW CLEANED DATA"
   ]
  },
  {
   "cell_type": "code",
   "execution_count": 4,
   "metadata": {
    "pycharm": {
     "name": "#%%\n"
    }
   },
   "outputs": [
    {
     "data": {
      "text/plain": "Text(0.5, 0, 'Target')"
     },
     "execution_count": 4,
     "metadata": {},
     "output_type": "execute_result"
    },
    {
     "data": {
      "text/plain": "<Figure size 432x288 with 1 Axes>",
      "image/png": "[encoded data removed]"
     },
     "metadata": {
      "needs_background": "light"
     },
     "output_type": "display_data"
    }
   ],
   "source": [
    "y = df[\"Target\"]\n",
    "ax = sns.barplot(x=['Genuine','Spam'],\n",
    "                 y=[sum(y==1),sum(y==0)])\n",
    "for i,v in enumerate([sum(y==1),sum(y==0)]):\n",
    "    ax.text(i - .1,v + 1,v)\n",
    "ax.set_title(\"Total Sample\")\n",
    "ax.set_xlabel('Target')"
   ]
  },
  {
   "cell_type": "code",
   "execution_count": 5,
   "metadata": {
    "pycharm": {
     "name": "#%%\n"
    }
   },
   "outputs": [],
   "source": [
    "df_true = df[df['Target'] == 1]\n",
    "df_false = df[df['Target']== 0]"
   ]
  },
  {
   "cell_type": "code",
   "execution_count": 6,
   "metadata": {
    "pycharm": {
     "name": "#%%\n"
    }
   },
   "outputs": [
    {
     "name": "stdout",
     "output_type": "stream",
     "text": [
      "             Userid      Rating  Helpfulness  Target  LengthManglish  \\\n",
      "count  5.090000e+02  509.000000   509.000000   509.0      509.000000   \n",
      "mean   1.249765e+08    3.345776     2.905697     1.0       39.889980   \n",
      "std    1.205394e+08    1.760874     6.583126     0.0       15.239288   \n",
      "min    5.328470e+05    1.000000     0.000000     1.0        7.000000   \n",
      "25%    4.546672e+07    1.000000     0.000000     1.0       28.000000   \n",
      "50%    8.702060e+07    4.000000     1.000000     1.0       40.000000   \n",
      "75%    1.659083e+08    5.000000     3.000000     1.0       52.000000   \n",
      "max    8.115544e+08    5.000000    62.000000     1.0       81.000000   \n",
      "\n",
      "       TotalEmoji  TotalPunct   TotalCaps  FrequencyAdverbs  FrequencyVerbs  \\\n",
      "count  509.000000  509.000000  509.000000        509.000000      509.000000   \n",
      "mean     0.326130    7.520629    7.595285          0.082031        0.199351   \n",
      "std      0.911284    4.566015    7.754682          0.050036        0.055991   \n",
      "min      0.000000    0.000000    0.000000          0.000000        0.045455   \n",
      "25%      0.000000    4.000000    3.000000          0.048387        0.160000   \n",
      "50%      0.000000    7.000000    6.000000          0.076923        0.193548   \n",
      "75%      0.000000   10.000000   10.000000          0.111111        0.236364   \n",
      "max      6.000000   42.000000   76.000000          0.400000        0.375000   \n",
      "\n",
      "       FrequencyAdjectives  FrequencyNouns  \n",
      "count           509.000000      509.000000  \n",
      "mean              0.124798        0.257758  \n",
      "std               0.057945        0.070513  \n",
      "min               0.000000        0.000000  \n",
      "25%               0.085714        0.208333  \n",
      "50%               0.120000        0.250000  \n",
      "75%               0.159091        0.304348  \n",
      "max               0.333333        0.522727  \n"
     ]
    }
   ],
   "source": [
    "print(df_true.describe())"
   ]
  },
  {
   "cell_type": "code",
   "execution_count": 7,
   "metadata": {
    "pycharm": {
     "name": "#%%\n"
    }
   },
   "outputs": [
    {
     "name": "stdout",
     "output_type": "stream",
     "text": [
      "             Userid      Rating  Helpfulness  Target  LengthManglish  \\\n",
      "count  6.530000e+02  653.000000   653.000000   653.0      653.000000   \n",
      "mean   1.308459e+08    4.914242     0.120980     0.0       17.091884   \n",
      "std    1.253393e+08    0.386104     0.652323     0.0       12.277997   \n",
      "min    5.147990e+05    1.000000     0.000000     0.0        1.000000   \n",
      "25%    4.621724e+07    5.000000     0.000000     0.0       10.000000   \n",
      "50%    8.830716e+07    5.000000     0.000000     0.0       14.000000   \n",
      "75%    1.755045e+08    5.000000     0.000000     0.0       21.000000   \n",
      "max    7.783613e+08    5.000000    10.000000     0.0       68.000000   \n",
      "\n",
      "       TotalEmoji  TotalPunct   TotalCaps  FrequencyAdverbs  FrequencyVerbs  \\\n",
      "count  653.000000  653.000000  653.000000        653.000000      653.000000   \n",
      "mean     0.846861    4.139357    3.246554          0.077738        0.161263   \n",
      "std      3.825304    4.085422    3.909895          0.100007        0.103586   \n",
      "min      0.000000    0.000000    0.000000          0.000000        0.000000   \n",
      "25%      0.000000    1.000000    1.000000          0.000000        0.100000   \n",
      "50%      0.000000    3.000000    2.000000          0.058824        0.166667   \n",
      "75%      0.000000    6.000000    4.000000          0.111111        0.222222   \n",
      "max     53.000000   39.000000   50.000000          0.666667        0.750000   \n",
      "\n",
      "       FrequencyAdjectives  FrequencyNouns  \n",
      "count           653.000000      653.000000  \n",
      "mean              0.164666        0.310348  \n",
      "std               0.147406        0.161157  \n",
      "min               0.000000        0.000000  \n",
      "25%               0.076923        0.222222  \n",
      "50%               0.142857        0.285714  \n",
      "75%               0.214286        0.375000  \n",
      "max               1.000000        1.000000  \n"
     ]
    }
   ],
   "source": [
    "print(df_false.describe())"
   ]
  },
  {
   "cell_type": "markdown",
   "metadata": {
    "pycharm": {
     "name": "#%% md\n"
    }
   },
   "source": [
    "# PREPARING ALL FEATURES FOR PIPELINES"
   ]
  },
  {
   "cell_type": "markdown",
   "metadata": {
    "pycharm": {
     "name": "#%% md\n"
    }
   },
   "source": [
    "\n",
    "features= [c for c in df.columns.values if c not in ['Username','Userid','Rating','Helpfulness','Comment','TimeCreated','Target','CommentToStr','SimpleCommentManglish','CommentClean1NumberRepeatedElongated','CommentClean2Normalizing','CommentClean3DeepSpellCorrector','CommentClean4EnglishComment','EnglishTokenized','PosTags','StopWords','FrequencyAdverbs','FrequencyVerbs','FrequencyAdjectives','FrequencyNouns']]\n",
    "print(\"List of features : \\n\",*features, sep = \"\\n\")\n",
    "\n",
    "\n",
    "numeric_features= [c for c in df.columns.values if c not in ['Username','Userid','Rating','Helpfulness','Comment','TimeCreated','Target','CommentToStr','SimpleCommentManglish','CommentClean1NumberRepeatedElongated','CommentClean2Normalizing','CommentClean3DeepSpellCorrector','CommentClean4EnglishComment','EnglishTokenized','PosTags','StopWords','FinalCleanComment','FrequencyAdverbs','FrequencyVerbs','FrequencyAdjectives','FrequencyNouns']]\n",
    "print(\"\\nList of numeric features : \\n\",*numeric_features, sep = \"\\n\")\n",
    "#Class column\n",
    "target = 'Target'"
   ]
  },
  {
   "cell_type": "code",
   "execution_count": 8,
   "metadata": {
    "pycharm": {
     "name": "#%%\n"
    }
   },
   "outputs": [
    {
     "name": "stdout",
     "output_type": "stream",
     "text": [
      "List of features : \n",
      "\n",
      "LengthManglish\n",
      "TotalEmoji\n",
      "TotalPunct\n",
      "TotalCaps\n",
      "FrequencyAdverbs\n",
      "FrequencyVerbs\n",
      "FrequencyAdjectives\n",
      "FrequencyNouns\n",
      "FinalCleanComment\n",
      "\n",
      "\n",
      "List of numeric features : \n",
      "\n",
      "LengthManglish\n",
      "TotalEmoji\n",
      "TotalPunct\n",
      "TotalCaps\n",
      "FrequencyAdverbs\n",
      "FrequencyVerbs\n",
      "FrequencyAdjectives\n",
      "FrequencyNouns\n"
     ]
    }
   ],
   "source": [
    "#from sklearn.model_selection import train_test_split\n",
    "\n",
    "features= [c for c in df.columns.values if c not in ['Username','Userid','Rating','Helpfulness','Comment','TimeCreated','Target','CommentToStr','SimpleCommentManglish','CommentClean1SimpleSpellCorrector','CommentClean2Normalizing','CommentClean4EnglishComment','EnglishTokenized','EnglishExpandContraction','PosTags','StopWords','LatestPosTagForLemmatize','Lematize']]\n",
    "\n",
    "print(\"List of features : \\n\",*features, sep = \"\\n\")\n",
    "\n",
    "\n",
    "numeric_features= [c for c in df.columns.values if c not in ['Username','Userid','Rating','Helpfulness','Comment','TimeCreated','Target','CommentToStr','SimpleCommentManglish','CommentClean1SimpleSpellCorrector','CommentClean2Normalizing','CommentClean4EnglishComment','EnglishTokenized','EnglishExpandContraction','PosTags','StopWords','LatestPosTagForLemmatize','Lematize','FinalCleanComment']]\n",
    "\n",
    "print(\"\\n\\nList of numeric features : \\n\",*numeric_features, sep = \"\\n\")\n",
    "\n",
    "#Class column\n",
    "target = 'Target'\n"
   ]
  },
  {
   "cell_type": "markdown",
   "metadata": {
    "pycharm": {
     "name": "#%% md\n"
    }
   },
   "source": [
    "# SPLITTING DATA FOR TRAINING & TESTING"
   ]
  },
  {
   "cell_type": "code",
   "execution_count": 9,
   "metadata": {
    "pycharm": {
     "name": "#%%\n"
    }
   },
   "outputs": [],
   "source": [
    "X_train, X_test, y_train, y_test = train_test_split(df[features], df[target], test_size=0.2, random_state=42)"
   ]
  },
  {
   "cell_type": "code",
   "execution_count": 10,
   "outputs": [
    {
     "data": {
      "text/plain": "      LengthManglish  TotalEmoji  TotalPunct  TotalCaps  FrequencyAdverbs  \\\n0                 23           0          12          3          0.090909   \n1                 42           0           2          7          0.088889   \n2                 14           0           5          1          0.071429   \n3                 30           0           0          1          0.064516   \n4                 44           0          10          7          0.073171   \n...              ...         ...         ...        ...               ...   \n1157              52           1           4          4          0.038462   \n1158              14           0           3          1          0.052632   \n1159              40           0           7          9          0.162162   \n1160              16           0           2          2          0.000000   \n1161              50           2          14         13          0.086957   \n\n      FrequencyVerbs  FrequencyAdjectives  FrequencyNouns  \\\n0           0.181818             0.090909        0.318182   \n1           0.200000             0.177778        0.200000   \n2           0.214286             0.071429        0.357143   \n3           0.258065             0.129032        0.290323   \n4           0.195122             0.268293        0.243902   \n...              ...                  ...             ...   \n1157        0.307692             0.057692        0.211538   \n1158        0.105263             0.210526        0.315789   \n1159        0.108108             0.135135        0.297297   \n1160        0.214286             0.214286        0.285714   \n1161        0.195652             0.195652        0.260870   \n\n                                      FinalCleanComment  \n0     solid state drive use move file empty waste ti...  \n1     never trust buy usb sd card price good true le...  \n2                 thank god take pink kaler fan pretty.  \n3     corrupt file save file even though buy solid s...  \n4     box come bubble wrap good condition capacity t...  \n...                                                 ...  \n1157  register laptop say problem registration serve...  \n1158  performance many problem hard disk recommended...  \n1159  deliver average item spec function advertised ...  \n1160  good condition test crystal disk info prove ge...  \n1161  ship fast item seller securely wrap bubble wra...  \n\n[1162 rows x 9 columns]",
      "text/html": "<div>\n<style scoped>\n    .dataframe tbody tr th:only-of-type {\n        vertical-align: middle;\n    }\n\n    .dataframe tbody tr th {\n        vertical-align: top;\n    }\n\n    .dataframe thead th {\n        text-align: right;\n    }\n</style>\n<table border=\"1\" class=\"dataframe\">\n  <thead>\n    <tr style=\"text-align: right;\">\n      <th></th>\n      <th>LengthManglish</th>\n      <th>TotalEmoji</th>\n      <th>TotalPunct</th>\n      <th>TotalCaps</th>\n      <th>FrequencyAdverbs</th>\n      <th>FrequencyVerbs</th>\n      <th>FrequencyAdjectives</th>\n      <th>FrequencyNouns</th>\n      <th>FinalCleanComment</th>\n    </tr>\n  </thead>\n  <tbody>\n    <tr>\n      <th>0</th>\n      <td>23</td>\n      <td>0</td>\n      <td>12</td>\n      <td>3</td>\n      <td>0.090909</td>\n      <td>0.181818</td>\n      <td>0.090909</td>\n      <td>0.318182</td>\n      <td>solid state drive use move file empty waste ti...</td>\n    </tr>\n    <tr>\n      <th>1</th>\n      <td>42</td>\n      <td>0</td>\n      <td>2</td>\n      <td>7</td>\n      <td>0.088889</td>\n      <td>0.200000</td>\n      <td>0.177778</td>\n      <td>0.200000</td>\n      <td>never trust buy usb sd card price good true le...</td>\n    </tr>\n    <tr>\n      <th>2</th>\n      <td>14</td>\n      <td>0</td>\n      <td>5</td>\n      <td>1</td>\n      <td>0.071429</td>\n      <td>0.214286</td>\n      <td>0.071429</td>\n      <td>0.357143</td>\n      <td>thank god take pink kaler fan pretty.</td>\n    </tr>\n    <tr>\n      <th>3</th>\n      <td>30</td>\n      <td>0</td>\n      <td>0</td>\n      <td>1</td>\n      <td>0.064516</td>\n      <td>0.258065</td>\n      <td>0.129032</td>\n      <td>0.290323</td>\n      <td>corrupt file save file even though buy solid s...</td>\n    </tr>\n    <tr>\n      <th>4</th>\n      <td>44</td>\n      <td>0</td>\n      <td>10</td>\n      <td>7</td>\n      <td>0.073171</td>\n      <td>0.195122</td>\n      <td>0.268293</td>\n      <td>0.243902</td>\n      <td>box come bubble wrap good condition capacity t...</td>\n    </tr>\n    <tr>\n      <th>...</th>\n      <td>...</td>\n      <td>...</td>\n      <td>...</td>\n      <td>...</td>\n      <td>...</td>\n      <td>...</td>\n      <td>...</td>\n      <td>...</td>\n      <td>...</td>\n    </tr>\n    <tr>\n      <th>1157</th>\n      <td>52</td>\n      <td>1</td>\n      <td>4</td>\n      <td>4</td>\n      <td>0.038462</td>\n      <td>0.307692</td>\n      <td>0.057692</td>\n      <td>0.211538</td>\n      <td>register laptop say problem registration serve...</td>\n    </tr>\n    <tr>\n      <th>1158</th>\n      <td>14</td>\n      <td>0</td>\n      <td>3</td>\n      <td>1</td>\n      <td>0.052632</td>\n      <td>0.105263</td>\n      <td>0.210526</td>\n      <td>0.315789</td>\n      <td>performance many problem hard disk recommended...</td>\n    </tr>\n    <tr>\n      <th>1159</th>\n      <td>40</td>\n      <td>0</td>\n      <td>7</td>\n      <td>9</td>\n      <td>0.162162</td>\n      <td>0.108108</td>\n      <td>0.135135</td>\n      <td>0.297297</td>\n      <td>deliver average item spec function advertised ...</td>\n    </tr>\n    <tr>\n      <th>1160</th>\n      <td>16</td>\n      <td>0</td>\n      <td>2</td>\n      <td>2</td>\n      <td>0.000000</td>\n      <td>0.214286</td>\n      <td>0.214286</td>\n      <td>0.285714</td>\n      <td>good condition test crystal disk info prove ge...</td>\n    </tr>\n    <tr>\n      <th>1161</th>\n      <td>50</td>\n      <td>2</td>\n      <td>14</td>\n      <td>13</td>\n      <td>0.086957</td>\n      <td>0.195652</td>\n      <td>0.195652</td>\n      <td>0.260870</td>\n      <td>ship fast item seller securely wrap bubble wra...</td>\n    </tr>\n  </tbody>\n</table>\n<p>1162 rows × 9 columns</p>\n</div>"
     },
     "execution_count": 10,
     "metadata": {},
     "output_type": "execute_result"
    }
   ],
   "source": [
    "df[features]"
   ],
   "metadata": {
    "collapsed": false,
    "pycharm": {
     "name": "#%%\n"
    }
   }
  },
  {
   "cell_type": "markdown",
   "metadata": {
    "pycharm": {
     "name": "#%% md\n"
    }
   },
   "source": [
    "# STANDARDIZE PIPELINE TO COMBINE (Int + Text + Densing arrays for NB only)"
   ]
  },
  {
   "cell_type": "code",
   "execution_count": 11,
   "metadata": {
    "pycharm": {
     "name": "#%%\n"
    }
   },
   "outputs": [],
   "source": [
    "#from sklearn.base import BaseEstimator, TransformerMixin\n",
    "\n",
    "class TextSelector(BaseEstimator, TransformerMixin):\n",
    "    \"\"\"\n",
    "    Transformer to select a single column from the data frame to perform additional transformations on\n",
    "    Use on text columns in the data\n",
    "    \"\"\"\n",
    "    def __init__(self, key):\n",
    "        self.key = key\n",
    "\n",
    "    def fit(self, X, y=None):\n",
    "        return self\n",
    "\n",
    "    def transform(self, X):\n",
    "        return X[self.key]\n",
    "\n",
    "class NumberSelector(BaseEstimator, TransformerMixin):\n",
    "    \"\"\"\n",
    "    Transformer to select a single column from the data frame to perform additional transformations on\n",
    "    Use on numeric columns in the data\n",
    "    \"\"\"\n",
    "    def __init__(self, key):\n",
    "        self.key = key\n",
    "\n",
    "    def fit(self, X, y=None):\n",
    "        return self\n",
    "\n",
    "    def transform(self, X):\n",
    "        return X[[self.key]]\n",
    "\n",
    "#CUSTOM NB ONLY\n",
    "class DenseTransformer(TransformerMixin):\n",
    "\n",
    "    def fit(self, X, y=None, **fit_params):\n",
    "        return self\n",
    "\n",
    "    def transform(self, X, y=None, **fit_params):\n",
    "        return X.todense()"
   ]
  },
  {
   "cell_type": "markdown",
   "metadata": {
    "pycharm": {
     "name": "#%% md\n"
    }
   },
   "source": [
    "# MINI PIPELINES"
   ]
  },
  {
   "cell_type": "code",
   "execution_count": 12,
   "metadata": {
    "pycharm": {
     "name": "#%%\n"
    }
   },
   "outputs": [],
   "source": [
    "comment = Pipeline([\n",
    "                ('selector', TextSelector(key='FinalCleanComment')),\n",
    "                ('tfidf', TfidfVectorizer( stop_words='english', ngram_range=(1,2)))\n",
    "            ])\n",
    "\n",
    "\n",
    "from sklearn.preprocessing import StandardScaler\n",
    "\n",
    "\n",
    "length =  Pipeline([\n",
    "                ('selector', NumberSelector(key='LengthManglish')),\n",
    "                ('standard', StandardScaler())\n",
    "            ])\n",
    "\n",
    "#print(length.fit_transform(X_train))\n",
    "\n",
    "emoji =  Pipeline([\n",
    "                ('selector', NumberSelector(key='TotalEmoji')),\n",
    "                ('standard', StandardScaler())\n",
    "            ])\n",
    "\n",
    "punc =  Pipeline([\n",
    "                ('selector', NumberSelector(key='TotalPunct')),\n",
    "                ('standard', StandardScaler())\n",
    "            ])\n",
    "\n",
    "caps =  Pipeline([\n",
    "                ('selector', NumberSelector(key='TotalCaps')),\n",
    "                ('standard', StandardScaler())\n",
    "            ])"
   ]
  },
  {
   "cell_type": "markdown",
   "metadata": {
    "pycharm": {
     "name": "#%% md\n"
    }
   },
   "source": []
  },
  {
   "cell_type": "code",
   "execution_count": 13,
   "metadata": {
    "pycharm": {
     "name": "#%%\n"
    }
   },
   "outputs": [],
   "source": [
    "freqAdverbs = Pipeline([\n",
    "                ('selector', NumberSelector(key='FrequencyAdverbs')),\n",
    "                ('standard', StandardScaler())\n",
    "            ])\n",
    "\n",
    "freqVerbs = Pipeline([\n",
    "                ('selector', NumberSelector(key='FrequencyVerbs')),\n",
    "                ('standard', StandardScaler())\n",
    "            ])\n",
    "\n",
    "freqAjds = Pipeline([\n",
    "                ('selector', NumberSelector(key='FrequencyAdjectives')),\n",
    "                ('standard', StandardScaler())\n",
    "            ])\n",
    "\n",
    "freqNouns = Pipeline([\n",
    "                ('selector', NumberSelector(key='FrequencyNouns')),\n",
    "                ('standard', StandardScaler())\n",
    "            ])"
   ]
  },
  {
   "cell_type": "markdown",
   "metadata": {
    "pycharm": {
     "name": "#%% md\n"
    }
   },
   "source": [
    "# FEATURE UNION"
   ]
  },
  {
   "cell_type": "markdown",
   "metadata": {
    "pycharm": {
     "name": "#%% md\n"
    }
   },
   "source": [
    "feats = FeatureUnion([('Comment', comment),\n",
    "                      ('LengthManglish', length),\n",
    "                      ('TotalEmoji', emoji),\n",
    "                      ('TotalPunct', punc),\n",
    "                      ('TotalCaps', caps)\n",
    "                      ])"
   ]
  },
  {
   "cell_type": "code",
   "execution_count": 14,
   "metadata": {
    "pycharm": {
     "name": "#%%\n"
    }
   },
   "outputs": [
    {
     "data": {
      "text/plain": "\"feature_processing = Pipeline([('feats', feats)])\\nfeature_processing.fit_transform(X_train)\""
     },
     "execution_count": 14,
     "metadata": {},
     "output_type": "execute_result"
    }
   ],
   "source": [
    "#from sklearn.pipeline import FeatureUnion\n",
    "\n",
    "feats = FeatureUnion([('Comment', comment),\n",
    "                      ('LengthManglish', length),\n",
    "                      ('TotalEmoji', emoji),\n",
    "                      ('TotalPunct', punc),\n",
    "                      ('TotalCaps', caps),\n",
    "                      ('FrequencyAdverbs',freqAdverbs),\n",
    "                      ('FrequencyVerbs',freqVerbs),\n",
    "                      ('FrequencyAdjectives',freqAjds),\n",
    "                      ('FrequencyNouns',freqNouns)])\n",
    "\n",
    "\n",
    "\n",
    "#Only to view the pipeline for feats\n",
    "\n",
    "'''feature_processing = Pipeline([('feats', feats)])\n",
    "feature_processing.fit_transform(X_train)'''\n"
   ]
  },
  {
   "cell_type": "markdown",
   "metadata": {
    "pycharm": {
     "name": "#%% md\n"
    }
   },
   "source": [
    "# 3 MAIN PIPELINES"
   ]
  },
  {
   "cell_type": "code",
   "execution_count": 15,
   "metadata": {
    "pycharm": {
     "name": "#%%\n"
    }
   },
   "outputs": [],
   "source": [
    "#Random Forest\n",
    "pipelineRF = Pipeline([\n",
    "    ('features',feats),\n",
    "    ('classifier', RandomForestClassifier(random_state = 42)),\n",
    "])"
   ]
  },
  {
   "cell_type": "code",
   "execution_count": 16,
   "metadata": {
    "pycharm": {
     "name": "#%%\n"
    }
   },
   "outputs": [],
   "source": [
    "#SVM\n",
    "pipelineSVM = Pipeline([\n",
    "    ('features',feats),\n",
    "    ('classifier', SVC(kernel='linear', C=1.0)),\n",
    "])"
   ]
  },
  {
   "cell_type": "code",
   "execution_count": 17,
   "metadata": {
    "pycharm": {
     "name": "#%%\n"
    }
   },
   "outputs": [],
   "source": [
    "#Naive Bayes\n",
    "pipelineNB = Pipeline([\n",
    "    ('features',feats),\n",
    "    ('to_dense', DenseTransformer()),#Added for NB Sparse -> Dense\n",
    "    ('classifier', GaussianNB()),\n",
    "])"
   ]
  },
  {
   "cell_type": "markdown",
   "metadata": {
    "pycharm": {
     "name": "#%% md\n"
    }
   },
   "source": [
    "# RESULT FUNCTIONS ONLY"
   ]
  },
  {
   "cell_type": "code",
   "execution_count": 18,
   "metadata": {
    "pycharm": {
     "name": "#%%\n"
    }
   },
   "outputs": [],
   "source": [
    "# This function will print the metrcis\n",
    "def print_model_report(y_test, prediction, ML_modelName):\n",
    "\n",
    "    tn, fp, fn, tp = confusion_matrix(y_test, prediction).ravel()\n",
    "\n",
    "    print(\"Model report for: \"+ ML_modelName + \"\\n\")\n",
    "\n",
    "    print(classification_report(y_test, prediction, digits=4))\n",
    "\n",
    "    #Sensitivity =  Finding % of Predicted True\n",
    "    #Specificity =  Finding % of Predicted False\n",
    "    sens = tp / (tp+fn)\n",
    "    spec = tn / (tn +fp)\n",
    "    print(f\"\\nSensitivity : {round(sens,2)}\")\n",
    "    print(f\"Specificity : {round(spec,2)} \\n\\n\")\n",
    "\n",
    "# Show confusion matrix plot\n",
    "def plot_confusion_matrix(y_test, prediction, ML_modelName, cmap):\n",
    "\n",
    "    cm = confusion_matrix(y_test, prediction)\n",
    "\n",
    "    ax = sns.heatmap(cm,\n",
    "                     annot=True,\n",
    "                     annot_kws={'size':18,'weight':'normal'},\n",
    "                     fmt='.20g',\n",
    "                     cmap=cmap,\n",
    "                     cbar_kws={'shrink':1},\n",
    "                     linewidths=2)\n",
    "\n",
    "    plt.title(\"Confusion Matrix for: \" + ML_modelName)\n",
    "\n",
    "    plt.ylabel(\"Actual Label\")\n",
    "\n",
    "    plt.xlabel(\"Predict Label\")\n",
    "\n",
    "    cbar = ax.collections[0].colorbar\n",
    "\n",
    "    plt.show()\n",
    "\n",
    "\n",
    "\n",
    "def crossval(model,model_name, X_train, y_train):\n",
    "\n",
    "    #Enable if want to use Stratified K-Folds\n",
    "    SKF = StratifiedKFold(n_splits=10, random_state=42, shuffle=True)\n",
    "\n",
    "    # Perform the testing using KFolds cross validation method!\n",
    "    scores = cross_val_score(model, X_train, y_train, scoring='accuracy', cv=SKF, n_jobs=-1)\n",
    "\n",
    "    print(f\" Accuracy of {model_name} : {round (np.mean(scores), 4)*100} %\")"
   ]
  },
  {
   "cell_type": "markdown",
   "metadata": {
    "pycharm": {
     "name": "#%% md\n"
    }
   },
   "source": [
    "# MODEL FITTING"
   ]
  },
  {
   "cell_type": "code",
   "execution_count": 19,
   "metadata": {
    "pycharm": {
     "name": "#%%\n"
    }
   },
   "outputs": [
    {
     "name": "stderr",
     "output_type": "stream",
     "text": [
      "C:\\Users\\General IRIS\\PycharmProjects\\FinalYearProject\\venv\\lib\\site-packages\\sklearn\\utils\\validation.py:727: FutureWarning: np.matrix usage is deprecated in 1.0 and will raise a TypeError in 1.2. Please convert to a numpy array with np.asarray. For more information see: https://numpy.org/doc/stable/reference/generated/numpy.matrix.html\n",
      "  warnings.warn(\n"
     ]
    }
   ],
   "source": [
    "model_RF = pipelineRF.fit(X_train,y_train)\n",
    "model_SVM = pipelineSVM.fit(X_train,y_train)\n",
    "model_NB = pipelineNB.fit(X_train,y_train)"
   ]
  },
  {
   "cell_type": "markdown",
   "metadata": {
    "pycharm": {
     "name": "#%% md\n"
    }
   },
   "source": [
    "# RESULT FROM CROSSVALIDATION USING K-FOLDS 10 AS OPTIMIZATION ON TRAINING SET"
   ]
  },
  {
   "cell_type": "code",
   "execution_count": 20,
   "metadata": {
    "pycharm": {
     "name": "#%%\n"
    }
   },
   "outputs": [
    {
     "name": "stdout",
     "output_type": "stream",
     "text": [
      " Accuracy of Random Forest : 83.53 %\n",
      " Accuracy of SVM : 86.98 %\n",
      " Accuracy of Naive Bayes : 74.27 %\n"
     ]
    }
   ],
   "source": [
    "crossval(model_RF,\"Random Forest\",X_train,y_train)\n",
    "crossval(model_SVM,\"SVM\",X_train,y_train)\n",
    "crossval(model_NB,\"Naive Bayes\",X_train,y_train)"
   ]
  },
  {
   "cell_type": "markdown",
   "metadata": {
    "pycharm": {
     "name": "#%% md\n"
    }
   },
   "source": [
    "# RESULT TESTING"
   ]
  },
  {
   "cell_type": "code",
   "execution_count": 21,
   "metadata": {
    "pycharm": {
     "name": "#%%\n"
    }
   },
   "outputs": [
    {
     "name": "stdout",
     "output_type": "stream",
     "text": [
      "CPU times: total: 141 ms\n",
      "Wall time: 129 ms\n"
     ]
    },
    {
     "name": "stderr",
     "output_type": "stream",
     "text": [
      "C:\\Users\\General IRIS\\PycharmProjects\\FinalYearProject\\venv\\lib\\site-packages\\sklearn\\utils\\validation.py:727: FutureWarning: np.matrix usage is deprecated in 1.0 and will raise a TypeError in 1.2. Please convert to a numpy array with np.asarray. For more information see: https://numpy.org/doc/stable/reference/generated/numpy.matrix.html\n",
      "  warnings.warn(\n"
     ]
    }
   ],
   "source": [
    "%%time\n",
    "pred_RF = model_RF.predict(X_test)\n",
    "pred_SVM = model_SVM.predict(X_test)\n",
    "pred_NB = model_NB.predict(X_test)"
   ]
  },
  {
   "cell_type": "code",
   "execution_count": 22,
   "metadata": {
    "pycharm": {
     "name": "#%%\n"
    }
   },
   "outputs": [
    {
     "name": "stdout",
     "output_type": "stream",
     "text": [
      "Model report for: Random Forest\n",
      "\n",
      "              precision    recall  f1-score   support\n",
      "\n",
      "           0     0.8333    0.9398    0.8834       133\n",
      "           1     0.9036    0.7500    0.8197       100\n",
      "\n",
      "    accuracy                         0.8584       233\n",
      "   macro avg     0.8685    0.8449    0.8515       233\n",
      "weighted avg     0.8635    0.8584    0.8560       233\n",
      "\n",
      "\n",
      "Sensitivity : 0.75\n",
      "Specificity : 0.94 \n",
      "\n",
      "\n",
      "Model report for: SVM\n",
      "\n",
      "              precision    recall  f1-score   support\n",
      "\n",
      "           0     0.9538    0.9323    0.9430       133\n",
      "           1     0.9126    0.9400    0.9261       100\n",
      "\n",
      "    accuracy                         0.9356       233\n",
      "   macro avg     0.9332    0.9362    0.9345       233\n",
      "weighted avg     0.9362    0.9356    0.9357       233\n",
      "\n",
      "\n",
      "Sensitivity : 0.94\n",
      "Specificity : 0.93 \n",
      "\n",
      "\n",
      "Model report for: Naive Bayes\n",
      "\n",
      "              precision    recall  f1-score   support\n",
      "\n",
      "           0     0.8692    0.6992    0.7750       133\n",
      "           1     0.6825    0.8600    0.7611       100\n",
      "\n",
      "    accuracy                         0.7682       233\n",
      "   macro avg     0.7758    0.7796    0.7680       233\n",
      "weighted avg     0.7891    0.7682    0.7690       233\n",
      "\n",
      "\n",
      "Sensitivity : 0.86\n",
      "Specificity : 0.7 \n",
      "\n",
      "\n"
     ]
    }
   ],
   "source": [
    "# Print model report for LogisticRegression\n",
    "# Sens\n",
    "# Specifity\n",
    "print_model_report(y_test, pred_RF, \"Random Forest\")\n",
    "print_model_report(y_test, pred_SVM, \"SVM\")\n",
    "print_model_report(y_test, pred_NB, \"Naive Bayes\")"
   ]
  },
  {
   "cell_type": "markdown",
   "metadata": {
    "pycharm": {
     "name": "#%% md\n"
    }
   },
   "source": [
    "# CONFUSION MATRIX"
   ]
  },
  {
   "cell_type": "code",
   "execution_count": 23,
   "metadata": {
    "pycharm": {
     "name": "#%%\n"
    }
   },
   "outputs": [
    {
     "data": {
      "text/plain": "<Figure size 432x288 with 2 Axes>",
      "image/png": "[encoded data removed]"
     },
     "metadata": {
      "needs_background": "light"
     },
     "output_type": "display_data"
    },
    {
     "data": {
      "text/plain": "<Figure size 432x288 with 2 Axes>",
      "image/png": "[encoded data removed]"
     },
     "metadata": {
      "needs_background": "light"
     },
     "output_type": "display_data"
    },
    {
     "data": {
      "text/plain": "<Figure size 432x288 with 2 Axes>",
      "image/png": "[encoded data removed]"
     },
     "metadata": {
      "needs_background": "light"
     },
     "output_type": "display_data"
    }
   ],
   "source": [
    "plot_confusion_matrix(y_test, pred_RF, \"Random Forest\", plt.cm.Blues)\n",
    "plot_confusion_matrix(y_test, pred_SVM, \"SVM\", plt.cm.Blues)\n",
    "plot_confusion_matrix(y_test, pred_NB, \"Naive Bayes\", plt.cm.Blues)"
   ]
  },
  {
   "cell_type": "markdown",
   "metadata": {
    "pycharm": {
     "name": "#%% md\n"
    }
   },
   "source": [
    "# DUMPING MODEL"
   ]
  },
  {
   "cell_type": "code",
   "execution_count": 24,
   "outputs": [],
   "source": [
    "\n",
    "#pickle.dump(model_RF, open('models/model_RF.pkl','wb'))\n",
    "#pickle.dump(model_SVM, open('models/model_SVMV2.pkl','wb'))\n",
    "#pickle.dump(model_NB, open('models/model_NB.pkl','wb'))\n"
   ],
   "metadata": {
    "collapsed": false,
    "pycharm": {
     "name": "#%%\n"
    }
   }
  },
  {
   "cell_type": "code",
   "execution_count": 25,
   "metadata": {
    "pycharm": {
     "name": "#%%\n"
    }
   },
   "outputs": [],
   "source": [
    "#joblib.dump(model_RF,\"model_RFV2.joblib\")"
   ]
  },
  {
   "cell_type": "code",
   "execution_count": 26,
   "outputs": [
    {
     "name": "stdout",
     "output_type": "stream",
     "text": [
      "[0 0 0 0 0 1 0 1 1 0 0 1 0 0 1 0 0 0 0 0 0 1 0 0 0 0 0 1 0 1 0 0 0 0 0 0 1\n",
      " 0 0 0 0 1 1 1 0 0 1 0 0 0 0 0 1 1 1 0 0 1 0 1 0 0 0 0 1 0 1 0 0 0 0 1 1 0\n",
      " 1 0 1 1 1 0 0 1 1 0 0 0 0 0 0 0 0 0 1 0 0 0 1 1 0 0 1 0 0 0 1 0 1 1 1 0 0\n",
      " 0 1 0 0 0 1 0 0 1 1 0 1 1 0 1 0 0 0 0 0 0 0 0 1 0 1 1 1 0 1 0 0 1 0 0 0 0\n",
      " 0 1 0 1 0 0 1 0 0 0 0 0 0 0 0 1 1 1 0 0 0 0 0 0 1 0 0 1 0 0 1 1 1 1 0 0 0\n",
      " 1 1 0 1 1 0 1 1 0 1 1 0 0 0 1 0 1 0 1 0 0 0 1 0 0 0 0 1 0 0 0 1 0 0 1 1 1\n",
      " 0 1 1 0 0 0 1 1 0 0 1]\n",
      "     index  LengthManglish  TotalEmoji  TotalPunct  TotalCaps  \\\n",
      "0      244              21           0           3          6   \n",
      "1      101              18           1           3          3   \n",
      "2     1080               9           0           3          2   \n",
      "3      583              17           1           2          2   \n",
      "4      752              24           1           3          0   \n",
      "..     ...             ...         ...         ...        ...   \n",
      "228    920              27           0           7          6   \n",
      "229   1048              36           0           7          7   \n",
      "230   1152               9           0           4          2   \n",
      "231    994              10           0           3          1   \n",
      "232      3              30           0           0          1   \n",
      "\n",
      "     FrequencyAdverbs  FrequencyVerbs  FrequencyAdjectives  FrequencyNouns  \\\n",
      "0            0.250000        0.150000             0.100000        0.200000   \n",
      "1            0.105263        0.157895             0.157895        0.315789   \n",
      "2            0.111111        0.222222             0.111111        0.444444   \n",
      "3            0.095238        0.238095             0.142857        0.238095   \n",
      "4            0.055556        0.277778             0.166667        0.166667   \n",
      "..                ...             ...                  ...             ...   \n",
      "228          0.206897        0.206897             0.068966        0.206897   \n",
      "229          0.105263        0.263158             0.078947        0.236842   \n",
      "230          0.250000        0.125000             0.250000        0.250000   \n",
      "231          0.000000        0.000000             0.125000        0.750000   \n",
      "232          0.064516        0.258065             0.129032        0.290323   \n",
      "\n",
      "                                     FinalCleanComment  Predicted  \n",
      "0    fast delivery toshiba brand break year hope br...          0  \n",
      "1    fast delivery genuine product waranti free myl...          0  \n",
      "2    super fast deliver item yesterday order today ...          0  \n",
      "3    delivery fast product package much item receiv...          0  \n",
      "4                size cute, happy take use ok problem.          0  \n",
      "..                                                 ...        ...  \n",
      "228  update everything genuine seagate hard this. b...          1  \n",
      "229  delivery slow think original pendriva kingston...          1  \n",
      "230       good seller fast delivery strongly recommend          0  \n",
      "231     good product quality value money fast delivery          0  \n",
      "232  corrupt file save file even though buy solid s...          1  \n",
      "\n",
      "[233 rows x 11 columns]\n"
     ]
    }
   ],
   "source": [
    "#print(X_test)\n",
    "X_test = X_test.reset_index()\n",
    "newdf = pd.DataFrame(pred_RF,columns=['Predicted'])\n",
    "#print(newdf)\n",
    "print(pred_RF)\n",
    "df_merged = pd.concat([X_test, newdf],axis=1)\n",
    "print(df_merged)"
   ],
   "metadata": {
    "collapsed": false,
    "pycharm": {
     "name": "#%%\n"
    }
   }
  }
 ],
 "metadata": {
  "kernelspec": {
   "display_name": "Python 3 (ipykernel)",
   "language": "python",
   "name": "python3"
  },
  "language_info": {
   "codemirror_mode": {
    "name": "ipython",
    "version": 3
   },
   "file_extension": ".py",
   "mimetype": "text/x-python",
   "name": "python",
   "nbconvert_exporter": "python",
   "pygments_lexer": "ipython3",
   "version": "3.9.2"
  }
 },
 "nbformat": 4,
 "nbformat_minor": 1
}