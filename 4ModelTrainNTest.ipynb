{
 "cells": [
  {
   "cell_type": "code",
   "execution_count": 1,
   "metadata": {
    "collapsed": true,
    "pycharm": {
     "name": "#%%\n"
    }
   },
   "outputs": [],
   "source": [
    "import pandas as pd\n",
    "import numpy as np\n",
    "import seaborn as sns\n",
    "import matplotlib.pyplot as plt\n",
    "import joblib\n",
    "from sklearn.base import BaseEstimator, TransformerMixin\n",
    "\n",
    "from sklearn.model_selection import train_test_split\n",
    "from sklearn.model_selection import StratifiedKFold, KFold, cross_val_score\n",
    "\n",
    "\n",
    "from sklearn.pipeline import Pipeline\n",
    "from sklearn.feature_extraction.text import TfidfVectorizer\n",
    "\n",
    "from sklearn.pipeline import FeatureUnion\n",
    "\n",
    "from sklearn.ensemble import RandomForestClassifier\n",
    "from sklearn.svm import SVC\n",
    "from sklearn.naive_bayes import GaussianNB\n",
    "\n",
    "\n",
    "from sklearn.metrics import classification_report\n",
    "from sklearn.metrics import accuracy_score, f1_score, confusion_matrix\n",
    "\n",
    "import pickle\n",
    "\n",
    "\n",
    "from imblearn.over_sampling import SMOTE"
   ]
  },
  {
   "cell_type": "code",
   "execution_count": 2,
   "metadata": {
    "pycharm": {
     "name": "#%%\n"
    }
   },
   "outputs": [],
   "source": [
    "df = pd.read_csv('3.1ReviewsUpdatedNov21.csv', encoding='utf-8')\n"
   ]
  },
  {
   "cell_type": "markdown",
   "metadata": {
    "pycharm": {
     "name": "#%% md\n"
    }
   },
   "source": [
    "# VIEW CLEANED DATA"
   ]
  },
  {
   "cell_type": "code",
   "execution_count": 3,
   "metadata": {
    "pycharm": {
     "name": "#%%\n"
    }
   },
   "outputs": [
    {
     "data": {
      "text/plain": "Text(0.5, 0, 'Target')"
     },
     "execution_count": 3,
     "metadata": {},
     "output_type": "execute_result"
    },
    {
     "data": {
      "text/plain": "<Figure size 432x288 with 1 Axes>",
      "image/png": "[encoded data removed]"
     },
     "metadata": {
      "needs_background": "light"
     },
     "output_type": "display_data"
    }
   ],
   "source": [
    "y = df[\"Target\"]\n",
    "ax = sns.barplot(x=['Genuine','Spam'],\n",
    "                 y=[sum(y==1),sum(y==0)])\n",
    "for i,v in enumerate([sum(y==1),sum(y==0)]):\n",
    "    ax.text(i - .1,v + 1,v)\n",
    "ax.set_title(\"Total Sample\")\n",
    "ax.set_xlabel('Target')"
   ]
  },
  {
   "cell_type": "code",
   "execution_count": 4,
   "metadata": {
    "pycharm": {
     "name": "#%%\n"
    }
   },
   "outputs": [],
   "source": [
    "df_true = df[df['Target'] == 1]\n",
    "df_false = df[df['Target']== 0]"
   ]
  },
  {
   "cell_type": "code",
   "execution_count": 5,
   "metadata": {
    "pycharm": {
     "name": "#%%\n"
    }
   },
   "outputs": [
    {
     "name": "stdout",
     "output_type": "stream",
     "text": [
      "             Userid      Rating  Helpfulness  Target  LengthManglish  \\\n",
      "count  5.090000e+02  509.000000   509.000000   509.0      509.000000   \n",
      "mean   1.249765e+08    3.345776     2.905697     1.0       38.273084   \n",
      "std    1.205394e+08    1.760874     6.583126     0.0       14.330810   \n",
      "min    5.328470e+05    1.000000     0.000000     1.0        7.000000   \n",
      "25%    4.546672e+07    1.000000     0.000000     1.0       27.000000   \n",
      "50%    8.702060e+07    4.000000     1.000000     1.0       39.000000   \n",
      "75%    1.659083e+08    5.000000     3.000000     1.0       50.000000   \n",
      "max    8.115544e+08    5.000000    62.000000     1.0       71.000000   \n",
      "\n",
      "       TotalEmoji  TotalPunct   TotalCaps  FrequencyAdverbs  FrequencyVerbs  \\\n",
      "count  509.000000  509.000000  509.000000        509.000000      509.000000   \n",
      "mean     0.326130    7.520629    7.595285          0.092296        0.188939   \n",
      "std      0.911284    4.566015    7.754682          0.056450        0.061917   \n",
      "min      0.000000    0.000000    0.000000          0.000000        0.000000   \n",
      "25%      0.000000    4.000000    3.000000          0.052632        0.148148   \n",
      "50%      0.000000    7.000000    6.000000          0.085714        0.186047   \n",
      "75%      0.000000   10.000000   10.000000          0.125000        0.224490   \n",
      "max      6.000000   42.000000   76.000000          0.285714        0.400000   \n",
      "\n",
      "       FrequencyAdjectives  FrequencyNouns  \n",
      "count           509.000000      509.000000  \n",
      "mean              0.134276        0.265841  \n",
      "std               0.063704        0.080760  \n",
      "min               0.000000        0.072727  \n",
      "25%               0.088889        0.214286  \n",
      "50%               0.130435        0.260870  \n",
      "75%               0.173913        0.310345  \n",
      "max               0.476190        0.571429  \n"
     ]
    }
   ],
   "source": [
    "print(df_true.describe())"
   ]
  },
  {
   "cell_type": "code",
   "execution_count": 6,
   "metadata": {
    "pycharm": {
     "name": "#%%\n"
    }
   },
   "outputs": [
    {
     "name": "stdout",
     "output_type": "stream",
     "text": [
      "             Userid      Rating  Helpfulness  Target  LengthManglish  \\\n",
      "count  6.520000e+02  652.000000   652.000000   652.0      652.000000   \n",
      "mean   1.309044e+08    4.914110     0.121166     0.0       16.825153   \n",
      "std    1.254266e+08    0.386385     0.652807     0.0       11.821254   \n",
      "min    5.147990e+05    1.000000     0.000000     0.0        1.000000   \n",
      "25%    4.617318e+07    5.000000     0.000000     0.0        9.000000   \n",
      "50%    8.817958e+07    5.000000     0.000000     0.0       14.000000   \n",
      "75%    1.756819e+08    5.000000     0.000000     0.0       21.000000   \n",
      "max    7.783613e+08    5.000000    10.000000     0.0       59.000000   \n",
      "\n",
      "       TotalEmoji  TotalPunct   TotalCaps  FrequencyAdverbs  FrequencyVerbs  \\\n",
      "count  652.000000  652.000000  652.000000        652.000000      652.000000   \n",
      "mean     0.848160    4.145706    3.250000          0.096979        0.157398   \n",
      "std      3.828097    4.085334    3.911904          0.115915        0.103691   \n",
      "min      0.000000    0.000000    0.000000          0.000000        0.000000   \n",
      "25%      0.000000    1.000000    1.000000          0.000000        0.090909   \n",
      "50%      0.000000    3.000000    2.000000          0.074773        0.162041   \n",
      "75%      0.000000    6.000000    4.000000          0.135442        0.222222   \n",
      "max     53.000000   39.000000   50.000000          1.000000        0.666667   \n",
      "\n",
      "       FrequencyAdjectives  FrequencyNouns  \n",
      "count           652.000000      652.000000  \n",
      "mean              0.183938        0.315446  \n",
      "std               0.152433        0.160731  \n",
      "min               0.000000        0.000000  \n",
      "25%               0.095238        0.217098  \n",
      "50%               0.164966        0.300000  \n",
      "75%               0.230769        0.400000  \n",
      "max               1.000000        1.000000  \n"
     ]
    }
   ],
   "source": [
    "print(df_false.describe())"
   ]
  },
  {
   "cell_type": "markdown",
   "metadata": {
    "pycharm": {
     "name": "#%% md\n"
    }
   },
   "source": [
    "# PREPARING ALL FEATURES FOR PIPELINES"
   ]
  },
  {
   "cell_type": "markdown",
   "metadata": {
    "pycharm": {
     "name": "#%% md\n"
    }
   },
   "source": [
    "\n",
    "features= [c for c in df.columns.values if c not in ['Username','Userid','Rating','Helpfulness','Comment','TimeCreated','Target','CommentToStr','SimpleCommentManglish','CommentClean1NumberRepeatedElongated','CommentClean2Normalizing','CommentClean3DeepSpellCorrector','CommentClean4EnglishComment','EnglishTokenized','PosTags','StopWords','FrequencyAdverbs','FrequencyVerbs','FrequencyAdjectives','FrequencyNouns']]\n",
    "print(\"List of features : \\n\",*features, sep = \"\\n\")\n",
    "\n",
    "\n",
    "numeric_features= [c for c in df.columns.values if c not in ['Username','Userid','Rating','Helpfulness','Comment','TimeCreated','Target','CommentToStr','SimpleCommentManglish','CommentClean1NumberRepeatedElongated','CommentClean2Normalizing','CommentClean3DeepSpellCorrector','CommentClean4EnglishComment','EnglishTokenized','PosTags','StopWords','FinalCleanComment','FrequencyAdverbs','FrequencyVerbs','FrequencyAdjectives','FrequencyNouns']]\n",
    "print(\"\\nList of numeric features : \\n\",*numeric_features, sep = \"\\n\")\n",
    "#Class column\n",
    "target = 'Target'"
   ]
  },
  {
   "cell_type": "code",
   "execution_count": 7,
   "metadata": {
    "pycharm": {
     "name": "#%%\n"
    }
   },
   "outputs": [
    {
     "name": "stdout",
     "output_type": "stream",
     "text": [
      "List of features : \n",
      "\n",
      "LengthManglish\n",
      "TotalEmoji\n",
      "TotalPunct\n",
      "TotalCaps\n",
      "FrequencyAdverbs\n",
      "FrequencyVerbs\n",
      "FrequencyAdjectives\n",
      "FrequencyNouns\n",
      "FinalCleanComment\n",
      "\n",
      "\n",
      "List of numeric features : \n",
      "\n",
      "LengthManglish\n",
      "TotalEmoji\n",
      "TotalPunct\n",
      "TotalCaps\n",
      "FrequencyAdverbs\n",
      "FrequencyVerbs\n",
      "FrequencyAdjectives\n",
      "FrequencyNouns\n"
     ]
    }
   ],
   "source": [
    "#from sklearn.model_selection import train_test_split\n",
    "\n",
    "features= [c for c in df.columns.values if c not in ['Username','Userid','Rating','Helpfulness','Comment','TimeCreated','Target','CommentToStr','SimpleCommentManglish','CommentClean1NumberRepeatedElongated','CommentClean2Normalizing','CommentClean3DeepSpellCorrector','CommentClean4EnglishComment','EnglishTokenized','PosTags','StopWords']]\n",
    "\n",
    "print(\"List of features : \\n\",*features, sep = \"\\n\")\n",
    "\n",
    "\n",
    "numeric_features= [c for c in df.columns.values if c not in ['Username','Userid','Rating','Helpfulness','Comment','TimeCreated','Target','CommentToStr','SimpleCommentManglish','CommentClean1NumberRepeatedElongated','CommentClean2Normalizing','CommentClean3DeepSpellCorrector','CommentClean4EnglishComment','EnglishTokenized','PosTags','StopWords','FinalCleanComment']]\n",
    "\n",
    "print(\"\\n\\nList of numeric features : \\n\",*numeric_features, sep = \"\\n\")\n",
    "\n",
    "#Class column\n",
    "target = 'Target'\n"
   ]
  },
  {
   "cell_type": "markdown",
   "metadata": {
    "pycharm": {
     "name": "#%% md\n"
    }
   },
   "source": [
    "# SPLITTING DATA FOR TRAINING & TESTING"
   ]
  },
  {
   "cell_type": "code",
   "execution_count": 8,
   "metadata": {
    "pycharm": {
     "name": "#%%\n"
    }
   },
   "outputs": [],
   "source": [
    "X_train, X_test, y_train, y_test = train_test_split(df[features], df[target], test_size=0.2, random_state=42)"
   ]
  },
  {
   "cell_type": "markdown",
   "metadata": {
    "pycharm": {
     "name": "#%% md\n"
    }
   },
   "source": [
    "# STANDARDIZE PIPELINE TO COMBINE (Int + Text + Densing arrays for NB only)"
   ]
  },
  {
   "cell_type": "code",
   "execution_count": 9,
   "metadata": {
    "pycharm": {
     "name": "#%%\n"
    }
   },
   "outputs": [],
   "source": [
    "#from sklearn.base import BaseEstimator, TransformerMixin\n",
    "\n",
    "class TextSelector(BaseEstimator, TransformerMixin):\n",
    "    \"\"\"\n",
    "    Transformer to select a single column from the data frame to perform additional transformations on\n",
    "    Use on text columns in the data\n",
    "    \"\"\"\n",
    "    def __init__(self, key):\n",
    "        self.key = key\n",
    "\n",
    "    def fit(self, X, y=None):\n",
    "        return self\n",
    "\n",
    "    def transform(self, X):\n",
    "        return X[self.key]\n",
    "\n",
    "class NumberSelector(BaseEstimator, TransformerMixin):\n",
    "    \"\"\"\n",
    "    Transformer to select a single column from the data frame to perform additional transformations on\n",
    "    Use on numeric columns in the data\n",
    "    \"\"\"\n",
    "    def __init__(self, key):\n",
    "        self.key = key\n",
    "\n",
    "    def fit(self, X, y=None):\n",
    "        return self\n",
    "\n",
    "    def transform(self, X):\n",
    "        return X[[self.key]]\n",
    "\n",
    "#CUSTOM NB ONLY\n",
    "class DenseTransformer(TransformerMixin):\n",
    "\n",
    "    def fit(self, X, y=None, **fit_params):\n",
    "        return self\n",
    "\n",
    "    def transform(self, X, y=None, **fit_params):\n",
    "        return X.todense()"
   ]
  },
  {
   "cell_type": "markdown",
   "metadata": {
    "pycharm": {
     "name": "#%% md\n"
    }
   },
   "source": [
    "# MINI PIPELINES"
   ]
  },
  {
   "cell_type": "code",
   "execution_count": 10,
   "metadata": {
    "pycharm": {
     "name": "#%%\n"
    }
   },
   "outputs": [],
   "source": [
    "comment = Pipeline([\n",
    "                ('selector', TextSelector(key='FinalCleanComment')),\n",
    "                ('tfidf', TfidfVectorizer( stop_words='english', ngram_range=(1,2)))\n",
    "            ])\n",
    "\n",
    "\n",
    "from sklearn.preprocessing import StandardScaler\n",
    "\n",
    "\n",
    "length =  Pipeline([\n",
    "                ('selector', NumberSelector(key='LengthManglish')),\n",
    "                ('standard', StandardScaler())\n",
    "            ])\n",
    "\n",
    "#print(length.fit_transform(X_train))\n",
    "\n",
    "emoji =  Pipeline([\n",
    "                ('selector', NumberSelector(key='TotalEmoji')),\n",
    "                ('standard', StandardScaler())\n",
    "            ])\n",
    "\n",
    "punc =  Pipeline([\n",
    "                ('selector', NumberSelector(key='TotalPunct')),\n",
    "                ('standard', StandardScaler())\n",
    "            ])\n",
    "\n",
    "caps =  Pipeline([\n",
    "                ('selector', NumberSelector(key='TotalCaps')),\n",
    "                ('standard', StandardScaler())\n",
    "            ])"
   ]
  },
  {
   "cell_type": "markdown",
   "metadata": {
    "pycharm": {
     "name": "#%% md\n"
    }
   },
   "source": []
  },
  {
   "cell_type": "code",
   "execution_count": 11,
   "metadata": {
    "pycharm": {
     "name": "#%%\n"
    }
   },
   "outputs": [],
   "source": [
    "freqAdverbs = Pipeline([\n",
    "                ('selector', NumberSelector(key='FrequencyAdverbs')),\n",
    "                ('standard', StandardScaler())\n",
    "            ])\n",
    "\n",
    "freqVerbs = Pipeline([\n",
    "                ('selector', NumberSelector(key='FrequencyVerbs')),\n",
    "                ('standard', StandardScaler())\n",
    "            ])\n",
    "\n",
    "freqAjds = Pipeline([\n",
    "                ('selector', NumberSelector(key='FrequencyAdjectives')),\n",
    "                ('standard', StandardScaler())\n",
    "            ])\n",
    "\n",
    "freqNouns = Pipeline([\n",
    "                ('selector', NumberSelector(key='FrequencyNouns')),\n",
    "                ('standard', StandardScaler())\n",
    "            ])"
   ]
  },
  {
   "cell_type": "markdown",
   "metadata": {
    "pycharm": {
     "name": "#%% md\n"
    }
   },
   "source": [
    "# FEATURE UNION"
   ]
  },
  {
   "cell_type": "markdown",
   "metadata": {
    "pycharm": {
     "name": "#%% md\n"
    }
   },
   "source": [
    "feats = FeatureUnion([('Comment', comment),\n",
    "                      ('LengthManglish', length),\n",
    "                      ('TotalEmoji', emoji),\n",
    "                      ('TotalPunct', punc),\n",
    "                      ('TotalCaps', caps)\n",
    "                      ])"
   ]
  },
  {
   "cell_type": "code",
   "execution_count": 12,
   "metadata": {
    "pycharm": {
     "name": "#%%\n"
    }
   },
   "outputs": [
    {
     "data": {
      "text/plain": "\"feature_processing = Pipeline([('feats', feats)])\\nfeature_processing.fit_transform(X_train)\""
     },
     "execution_count": 12,
     "metadata": {},
     "output_type": "execute_result"
    }
   ],
   "source": [
    "#from sklearn.pipeline import FeatureUnion\n",
    "\n",
    "feats = FeatureUnion([('Comment', comment),\n",
    "                      ('LengthManglish', length),\n",
    "                      ('TotalEmoji', emoji),\n",
    "                      ('TotalPunct', punc),\n",
    "                      ('TotalCaps', caps),\n",
    "                      ('FrequencyAdverbs',freqAdverbs),\n",
    "                      ('FrequencyVerbs',freqVerbs),\n",
    "                      ('FrequencyAdjectives',freqAjds),\n",
    "                      ('FrequencyNouns',freqNouns)])\n",
    "\n",
    "\n",
    "\n",
    "#Only to view the pipeline for feats\n",
    "\n",
    "'''feature_processing = Pipeline([('feats', feats)])\n",
    "feature_processing.fit_transform(X_train)'''\n"
   ]
  },
  {
   "cell_type": "markdown",
   "metadata": {
    "pycharm": {
     "name": "#%% md\n"
    }
   },
   "source": [
    "# 3 MAIN PIPELINES"
   ]
  },
  {
   "cell_type": "code",
   "execution_count": 13,
   "metadata": {
    "pycharm": {
     "name": "#%%\n"
    }
   },
   "outputs": [],
   "source": [
    "#Random Forest\n",
    "pipelineRF = Pipeline([\n",
    "    ('features',feats),\n",
    "    ('classifier', RandomForestClassifier(random_state = 42)),\n",
    "])"
   ]
  },
  {
   "cell_type": "code",
   "execution_count": 14,
   "metadata": {
    "pycharm": {
     "name": "#%%\n"
    }
   },
   "outputs": [],
   "source": [
    "#SVM\n",
    "pipelineSVM = Pipeline([\n",
    "    ('features',feats),\n",
    "    ('classifier', SVC(kernel='linear', C=1.0)),\n",
    "])"
   ]
  },
  {
   "cell_type": "code",
   "execution_count": 15,
   "metadata": {
    "pycharm": {
     "name": "#%%\n"
    }
   },
   "outputs": [],
   "source": [
    "#Naive Bayes\n",
    "pipelineNB = Pipeline([\n",
    "    ('features',feats),\n",
    "    ('to_dense', DenseTransformer()),#Added for NB Sparse -> Dense\n",
    "    ('classifier', GaussianNB()),\n",
    "])"
   ]
  },
  {
   "cell_type": "markdown",
   "metadata": {
    "pycharm": {
     "name": "#%% md\n"
    }
   },
   "source": [
    "# RESULT FUNCTIONS ONLY"
   ]
  },
  {
   "cell_type": "code",
   "execution_count": 16,
   "metadata": {
    "pycharm": {
     "name": "#%%\n"
    }
   },
   "outputs": [],
   "source": [
    "# This function will print the metrcis\n",
    "def print_model_report(y_test, prediction, ML_modelName):\n",
    "\n",
    "    tn, fp, fn, tp = confusion_matrix(y_test, prediction).ravel()\n",
    "\n",
    "    print(\"Model report for: \"+ ML_modelName + \"\\n\")\n",
    "\n",
    "    print(classification_report(y_test, prediction, digits=4))\n",
    "\n",
    "    #Sensitivity =  Finding % of Predicted True\n",
    "    #Specificity =  Finding % of Predicted False\n",
    "    sens = tp / (tp+fn)\n",
    "    spec = tn / (tn +fp)\n",
    "    print(f\"\\nSensitivity : {round(sens,2)}\")\n",
    "    print(f\"Specificity : {round(spec,2)} \\n\\n\")\n",
    "\n",
    "# Show confusion matrix plot\n",
    "def plot_confusion_matrix(y_test, prediction, ML_modelName, cmap):\n",
    "\n",
    "    cm = confusion_matrix(y_test, prediction)\n",
    "\n",
    "    ax = sns.heatmap(cm,\n",
    "                     annot=True,\n",
    "                     annot_kws={'size':18,'weight':'normal'},\n",
    "                     fmt='.20g',\n",
    "                     cmap=cmap,\n",
    "                     cbar_kws={'shrink':1},\n",
    "                     linewidths=2)\n",
    "\n",
    "    plt.title(\"Confusion Matrix for: \" + ML_modelName)\n",
    "\n",
    "    plt.ylabel(\"Actual Label\")\n",
    "\n",
    "    plt.xlabel(\"Predict Label\")\n",
    "\n",
    "    cbar = ax.collections[0].colorbar\n",
    "\n",
    "    plt.show()\n",
    "\n",
    "\n",
    "\n",
    "\n",
    "def crossval(model,model_name, X_train, y_train):\n",
    "\n",
    "    #Enable if want to use Stratified K-Folds\n",
    "    SKF = StratifiedKFold(n_splits=10, random_state=42, shuffle=True)\n",
    "\n",
    "    # Perform the testing using KFolds cross validation method!\n",
    "    scores = cross_val_score(model, X_train, y_train, scoring='accuracy', cv=SKF, n_jobs=-1)\n",
    "\n",
    "    print(f\" Accuracy of {model_name} : {round (np.mean(scores), 4)*100} %\")"
   ]
  },
  {
   "cell_type": "markdown",
   "metadata": {
    "pycharm": {
     "name": "#%% md\n"
    }
   },
   "source": [
    "# MODEL FITTING"
   ]
  },
  {
   "cell_type": "code",
   "execution_count": 17,
   "metadata": {
    "pycharm": {
     "name": "#%%\n"
    }
   },
   "outputs": [
    {
     "name": "stderr",
     "output_type": "stream",
     "text": [
      "C:\\Users\\General IRIS\\PycharmProjects\\FinalYearProject\\venv\\lib\\site-packages\\sklearn\\utils\\validation.py:727: FutureWarning: np.matrix usage is deprecated in 1.0 and will raise a TypeError in 1.2. Please convert to a numpy array with np.asarray. For more information see: https://numpy.org/doc/stable/reference/generated/numpy.matrix.html\n",
      "  warnings.warn(\n"
     ]
    }
   ],
   "source": [
    "model_RF = pipelineRF.fit(X_train,y_train)\n",
    "model_SVM = pipelineSVM.fit(X_train,y_train)\n",
    "model_NB = pipelineNB.fit(X_train,y_train)"
   ]
  },
  {
   "cell_type": "markdown",
   "metadata": {
    "pycharm": {
     "name": "#%% md\n"
    }
   },
   "source": [
    "# RESULT FROM CROSSVALIDATION USING K-FOLDS 10 AS OPTIMIZATION ON TRAINING SET"
   ]
  },
  {
   "cell_type": "code",
   "execution_count": 18,
   "metadata": {
    "pycharm": {
     "name": "#%%\n"
    }
   },
   "outputs": [
    {
     "name": "stdout",
     "output_type": "stream",
     "text": [
      " Accuracy of Random Forest : 82.65 %\n",
      " Accuracy of SVM : 86.31 %\n",
      " Accuracy of Naive Bayes : 74.57000000000001 %\n"
     ]
    }
   ],
   "source": [
    "crossval(model_RF,\"Random Forest\",X_train,y_train)\n",
    "crossval(model_SVM,\"SVM\",X_train,y_train)\n",
    "crossval(model_NB,\"Naive Bayes\",X_train,y_train)"
   ]
  },
  {
   "cell_type": "markdown",
   "metadata": {
    "pycharm": {
     "name": "#%% md\n"
    }
   },
   "source": [
    "# RESULT TESTING"
   ]
  },
  {
   "cell_type": "code",
   "execution_count": 19,
   "metadata": {
    "pycharm": {
     "name": "#%%\n"
    }
   },
   "outputs": [
    {
     "name": "stdout",
     "output_type": "stream",
     "text": [
      "CPU times: total: 109 ms\n",
      "Wall time: 112 ms\n"
     ]
    },
    {
     "name": "stderr",
     "output_type": "stream",
     "text": [
      "C:\\Users\\General IRIS\\PycharmProjects\\FinalYearProject\\venv\\lib\\site-packages\\sklearn\\utils\\validation.py:727: FutureWarning: np.matrix usage is deprecated in 1.0 and will raise a TypeError in 1.2. Please convert to a numpy array with np.asarray. For more information see: https://numpy.org/doc/stable/reference/generated/numpy.matrix.html\n",
      "  warnings.warn(\n"
     ]
    }
   ],
   "source": [
    "%%time\n",
    "pred_RF = model_RF.predict(X_test)\n",
    "pred_SVM = model_SVM.predict(X_test)\n",
    "pred_NB = model_NB.predict(X_test)"
   ]
  },
  {
   "cell_type": "code",
   "execution_count": 20,
   "metadata": {
    "pycharm": {
     "name": "#%%\n"
    }
   },
   "outputs": [
    {
     "name": "stdout",
     "output_type": "stream",
     "text": [
      "Model report for: Random Forest\n",
      "\n",
      "              precision    recall  f1-score   support\n",
      "\n",
      "           0     0.7727    0.9225    0.8410       129\n",
      "           1     0.8734    0.6635    0.7541       104\n",
      "\n",
      "    accuracy                         0.8069       233\n",
      "   macro avg     0.8231    0.7930    0.7975       233\n",
      "weighted avg     0.8177    0.8069    0.8022       233\n",
      "\n",
      "\n",
      "Sensitivity : 0.66\n",
      "Specificity : 0.92 \n",
      "\n",
      "\n",
      "Model report for: SVM\n",
      "\n",
      "              precision    recall  f1-score   support\n",
      "\n",
      "           0     0.9262    0.8760    0.9004       129\n",
      "           1     0.8559    0.9135    0.8837       104\n",
      "\n",
      "    accuracy                         0.8927       233\n",
      "   macro avg     0.8910    0.8947    0.8921       233\n",
      "weighted avg     0.8948    0.8927    0.8930       233\n",
      "\n",
      "\n",
      "Sensitivity : 0.91\n",
      "Specificity : 0.88 \n",
      "\n",
      "\n",
      "Model report for: Naive Bayes\n",
      "\n",
      "              precision    recall  f1-score   support\n",
      "\n",
      "           0     0.8692    0.7209    0.7881       129\n",
      "           1     0.7143    0.8654    0.7826       104\n",
      "\n",
      "    accuracy                         0.7854       233\n",
      "   macro avg     0.7917    0.7932    0.7854       233\n",
      "weighted avg     0.8000    0.7854    0.7857       233\n",
      "\n",
      "\n",
      "Sensitivity : 0.87\n",
      "Specificity : 0.72 \n",
      "\n",
      "\n"
     ]
    }
   ],
   "source": [
    "# Print model report for LogisticRegression\n",
    "# Sens\n",
    "# Specifity\n",
    "print_model_report(y_test, pred_RF, \"Random Forest\")\n",
    "print_model_report(y_test, pred_SVM, \"SVM\")\n",
    "print_model_report(y_test, pred_NB, \"Naive Bayes\")"
   ]
  },
  {
   "cell_type": "markdown",
   "metadata": {
    "pycharm": {
     "name": "#%% md\n"
    }
   },
   "source": [
    "# CONFUSION MATRIX"
   ]
  },
  {
   "cell_type": "code",
   "execution_count": 21,
   "metadata": {
    "pycharm": {
     "name": "#%%\n"
    }
   },
   "outputs": [
    {
     "data": {
      "text/plain": "<Figure size 432x288 with 2 Axes>",
      "image/png": "[encoded data removed]"
     },
     "metadata": {
      "needs_background": "light"
     },
     "output_type": "display_data"
    },
    {
     "data": {
      "text/plain": "<Figure size 432x288 with 2 Axes>",
      "image/png": "[encoded data removed]"
     },
     "metadata": {
      "needs_background": "light"
     },
     "output_type": "display_data"
    },
    {
     "data": {
      "text/plain": "<Figure size 432x288 with 2 Axes>",
      "image/png": "[encoded data removed]"
     },
     "metadata": {
      "needs_background": "light"
     },
     "output_type": "display_data"
    }
   ],
   "source": [
    "plot_confusion_matrix(y_test, pred_RF, \"Random Forest\", plt.cm.Blues)\n",
    "plot_confusion_matrix(y_test, pred_SVM, \"SVM\", plt.cm.Blues)\n",
    "plot_confusion_matrix(y_test, pred_NB, \"Naive Bayes\", plt.cm.Blues)"
   ]
  },
  {
   "cell_type": "markdown",
   "metadata": {
    "pycharm": {
     "name": "#%% md\n"
    }
   },
   "source": [
    "# DUMPING MODEL"
   ]
  },
  {
   "cell_type": "code",
   "execution_count": 22,
   "outputs": [],
   "source": [
    "\n",
    "pickle.dump(model_RF, open('models/model_RF.pkl','wb'))\n",
    "pickle.dump(model_SVM, open('models/model_SVM.pkl','wb'))\n",
    "pickle.dump(model_NB, open('models/model_NB.pkl','wb'))"
   ],
   "metadata": {
    "collapsed": false,
    "pycharm": {
     "name": "#%%\n"
    }
   }
  },
  {
   "cell_type": "code",
   "execution_count": 23,
   "metadata": {
    "pycharm": {
     "name": "#%%\n"
    }
   },
   "outputs": [],
   "source": [
    "#joblib.dump(model_RF,\"model_RFV2.joblib\")"
   ]
  },
  {
   "cell_type": "markdown",
   "metadata": {
    "pycharm": {
     "name": "#%% md\n"
    }
   },
   "source": [
    "print(X_test)\n",
    "X_test = X_test.reset_index()\n",
    "newdf = pd.DataFrame(pred_RF,columns=['Predicted'])\n",
    "print(newdf)\n",
    "df_merged = pd.concat([X_test, newdf],axis=1)\n",
    "print(df_merged)"
   ]
  }
 ],
 "metadata": {
  "kernelspec": {
   "display_name": "Python 3 (ipykernel)",
   "language": "python",
   "name": "python3"
  },
  "language_info": {
   "codemirror_mode": {
    "name": "ipython",
    "version": 3
   },
   "file_extension": ".py",
   "mimetype": "text/x-python",
   "name": "python",
   "nbconvert_exporter": "python",
   "pygments_lexer": "ipython3",
   "version": "3.9.2"
  }
 },
 "nbformat": 4,
 "nbformat_minor": 1
}